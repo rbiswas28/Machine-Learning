{
 "cells": [
  {
   "cell_type": "markdown",
   "id": "million-simple",
   "metadata": {},
   "source": [
    "# Investment Analysis Assignment"
   ]
  },
  {
   "cell_type": "code",
   "execution_count": 1,
   "id": "level-mouse",
   "metadata": {},
   "outputs": [],
   "source": [
    "#Importing necessary Libraries\n",
    "import pandas as pd\n",
    "import numpy  as np\n",
    "import matplotlib.pyplot as plt\n",
    "%matplotlib inline"
   ]
  },
  {
   "cell_type": "markdown",
   "id": "nuclear-wilson",
   "metadata": {},
   "source": [
    "## Checkpoint 1: Data Cleaning "
   ]
  },
  {
   "cell_type": "code",
   "execution_count": 2,
   "id": "rental-wrist",
   "metadata": {},
   "outputs": [],
   "source": [
    "#Load \"companies\" and \"rounds2\" Data into Pandas Dataframe from csv\n",
    "companies = pd.read_csv(\"companies.csv\",sep=\",\",encoding = \"palmos\")\n",
    "rounds2 = pd.read_csv(\"rounds2.csv\",sep=\",\",encoding = \"palmos\")"
   ]
  },
  {
   "cell_type": "markdown",
   "id": "manual-installation",
   "metadata": {},
   "source": [
    "`I have loaded and performed data cleaning activity for 'sector mapping' csv within Checkpoint 4 to ensure continuity.`"
   ]
  },
  {
   "cell_type": "code",
   "execution_count": 3,
   "id": "alone-ireland",
   "metadata": {},
   "outputs": [
    {
     "data": {
      "text/plain": [
       "(114949, 6)"
      ]
     },
     "execution_count": 3,
     "metadata": {},
     "output_type": "execute_result"
    }
   ],
   "source": [
    "rounds2.shape"
   ]
  },
  {
   "cell_type": "code",
   "execution_count": 4,
   "id": "million-government",
   "metadata": {},
   "outputs": [
    {
     "data": {
      "text/plain": [
       "(66368, 10)"
      ]
     },
     "execution_count": 4,
     "metadata": {},
     "output_type": "execute_result"
    }
   ],
   "source": [
    "companies.shape"
   ]
  },
  {
   "cell_type": "markdown",
   "id": "coupled-italian",
   "metadata": {},
   "source": [
    "-  I am going to use **permalink** in companies and **company_permalink** in rounds2 as unique key to compare both datasets.\n",
    "-  First I will convert all the letters in the string to upper by **str.upper()** function"
   ]
  },
  {
   "cell_type": "code",
   "execution_count": 5,
   "id": "pleased-niagara",
   "metadata": {},
   "outputs": [],
   "source": [
    "companies['permalink'] = companies['permalink'].str.upper()\n",
    "rounds2['company_permalink'] = rounds2['company_permalink'].str.upper()"
   ]
  },
  {
   "cell_type": "markdown",
   "id": "appointed-husband",
   "metadata": {},
   "source": [
    "### <font color=blue>How many unique companies are present in rounds2?"
   ]
  },
  {
   "cell_type": "markdown",
   "id": "crazy-posting",
   "metadata": {},
   "source": [
    "-  I am using **nunique()** function to get the result."
   ]
  },
  {
   "cell_type": "code",
   "execution_count": 6,
   "id": "stupid-confidence",
   "metadata": {},
   "outputs": [
    {
     "data": {
      "text/plain": [
       "66368"
      ]
     },
     "execution_count": 6,
     "metadata": {},
     "output_type": "execute_result"
    }
   ],
   "source": [
    "rounds2['company_permalink'].nunique(dropna = True)"
   ]
  },
  {
   "cell_type": "markdown",
   "id": "flying-shelter",
   "metadata": {},
   "source": [
    "### <font color=blue> How many unique companies are present in the companies file?"
   ]
  },
  {
   "cell_type": "markdown",
   "id": "fiscal-subdivision",
   "metadata": {},
   "source": [
    "-  I am using **nunique()** function to get the result."
   ]
  },
  {
   "cell_type": "code",
   "execution_count": 7,
   "id": "specified-three",
   "metadata": {},
   "outputs": [
    {
     "data": {
      "text/plain": [
       "66368"
      ]
     },
     "execution_count": 7,
     "metadata": {},
     "output_type": "execute_result"
    }
   ],
   "source": [
    "companies['permalink'].nunique(dropna = True)"
   ]
  },
  {
   "cell_type": "markdown",
   "id": "coordinate-chess",
   "metadata": {},
   "source": [
    "### <font color=blue>Are there any companies in the rounds2 file which are not  present in companies ?"
   ]
  },
  {
   "cell_type": "markdown",
   "id": "juvenile-hindu",
   "metadata": {},
   "source": [
    "-  I am using **isin()** function to check if any company in rounds2.csv is not there in companies.csv.\n",
    "-  Then I am using **value_counts()** to get the count of resultant Boolean outcomes\n",
    "-  Answer is **\"NO\"**"
   ]
  },
  {
   "cell_type": "code",
   "execution_count": 8,
   "id": "cardiac-induction",
   "metadata": {},
   "outputs": [
    {
     "data": {
      "text/plain": [
       "True    114949\n",
       "Name: company_permalink, dtype: int64"
      ]
     },
     "execution_count": 8,
     "metadata": {},
     "output_type": "execute_result"
    }
   ],
   "source": [
    "rounds2['company_permalink'].isin(companies['permalink']).value_counts()\n",
    "#True = common\n",
    "#False = different "
   ]
  },
  {
   "cell_type": "markdown",
   "id": "engaged-needle",
   "metadata": {},
   "source": [
    "### <font color=blue> Merge the two data frames so that all  variables (columns)  in the companies frame are added to the rounds2 data frame. Name the merged frame master_frame. How many observations are present in master_frame ?"
   ]
  },
  {
   "cell_type": "markdown",
   "id": "eleven-template",
   "metadata": {},
   "source": [
    "-  Using **merge()** function to merge the two dataframes.\n",
    "-  By default the join is inner so not explicitly mentioning it in the code"
   ]
  },
  {
   "cell_type": "code",
   "execution_count": 9,
   "id": "organizational-shade",
   "metadata": {},
   "outputs": [],
   "source": [
    "master_frame = pd.merge(rounds2,companies,left_on = 'company_permalink',right_on = 'permalink')"
   ]
  },
  {
   "cell_type": "code",
   "execution_count": 10,
   "id": "fuzzy-identity",
   "metadata": {},
   "outputs": [
    {
     "data": {
      "text/plain": [
       "(114949, 16)"
      ]
     },
     "execution_count": 10,
     "metadata": {},
     "output_type": "execute_result"
    }
   ],
   "source": [
    "master_frame.shape"
   ]
  },
  {
   "cell_type": "markdown",
   "id": "technological-custom",
   "metadata": {},
   "source": [
    "### <font color=blue>Data Cleansing Activity"
   ]
  },
  {
   "cell_type": "markdown",
   "id": "northern-signal",
   "metadata": {},
   "source": [
    "1.  **company_permalink** and **permalink** columns in **master_frame** dataframe contains the same information.\n",
    "2.  So we can drop the **permalink** column from the master dataframe"
   ]
  },
  {
   "cell_type": "code",
   "execution_count": 11,
   "id": "governing-manner",
   "metadata": {},
   "outputs": [],
   "source": [
    "master_frame = master_frame.drop(columns = ['permalink'])"
   ]
  },
  {
   "cell_type": "code",
   "execution_count": 12,
   "id": "accepted-participation",
   "metadata": {},
   "outputs": [
    {
     "data": {
      "text/plain": [
       "(114949, 15)"
      ]
     },
     "execution_count": 12,
     "metadata": {},
     "output_type": "execute_result"
    }
   ],
   "source": [
    "master_frame.shape # Verify if the column is dropped - evident from change in shape from 16 to 15"
   ]
  },
  {
   "cell_type": "markdown",
   "id": "loved-regard",
   "metadata": {},
   "source": [
    "3.  Now we will check the columns with Null or missing values.\n",
    "4.  By using the **info()** function we can check which columns have Null or missing values.\n",
    "5.  We will also check the data in terms of **'%'** of the overall missing values."
   ]
  },
  {
   "cell_type": "code",
   "execution_count": 13,
   "id": "ultimate-somewhere",
   "metadata": {},
   "outputs": [
    {
     "name": "stdout",
     "output_type": "stream",
     "text": [
      "<class 'pandas.core.frame.DataFrame'>\n",
      "Int64Index: 114949 entries, 0 to 114948\n",
      "Data columns (total 15 columns):\n",
      " #   Column                   Non-Null Count   Dtype  \n",
      "---  ------                   --------------   -----  \n",
      " 0   company_permalink        114949 non-null  object \n",
      " 1   funding_round_permalink  114949 non-null  object \n",
      " 2   funding_round_type       114949 non-null  object \n",
      " 3   funding_round_code       31140 non-null   object \n",
      " 4   funded_at                114949 non-null  object \n",
      " 5   raised_amount_usd        94959 non-null   float64\n",
      " 6   name                     114948 non-null  object \n",
      " 7   homepage_url             108815 non-null  object \n",
      " 8   category_list            111539 non-null  object \n",
      " 9   status                   114949 non-null  object \n",
      " 10  country_code             106271 non-null  object \n",
      " 11  state_code               104003 non-null  object \n",
      " 12  region                   104782 non-null  object \n",
      " 13  city                     104785 non-null  object \n",
      " 14  founded_at               94428 non-null   object \n",
      "dtypes: float64(1), object(14)\n",
      "memory usage: 14.0+ MB\n"
     ]
    }
   ],
   "source": [
    "master_frame.info()"
   ]
  },
  {
   "cell_type": "code",
   "execution_count": 14,
   "id": "delayed-terror",
   "metadata": {},
   "outputs": [
    {
     "data": {
      "text/plain": [
       "company_permalink           0.00\n",
       "funding_round_permalink     0.00\n",
       "funding_round_type          0.00\n",
       "funding_round_code         72.91\n",
       "funded_at                   0.00\n",
       "raised_amount_usd          17.39\n",
       "name                        0.00\n",
       "homepage_url                5.34\n",
       "category_list               2.97\n",
       "status                      0.00\n",
       "country_code                7.55\n",
       "state_code                  9.52\n",
       "region                      8.84\n",
       "city                        8.84\n",
       "founded_at                 17.85\n",
       "dtype: float64"
      ]
     },
     "execution_count": 14,
     "metadata": {},
     "output_type": "execute_result"
    }
   ],
   "source": [
    "round(100*(master_frame.isnull().sum()/len(master_frame.index)), 2)"
   ]
  },
  {
   "cell_type": "markdown",
   "id": "norman-library",
   "metadata": {},
   "source": [
    "#### <font color=green> Key Conclusions are - \n",
    "-  As evident from the above table **funding_round_code** column has maximum at **72.91%** missing or NULL values,followed by **founded_at** column at **17.85%** and **raised_amount_usd** column at **17.39%** missing or NULL values.\n",
    "-  **raised_amount_usd** is crucial for our further data analysis exercise,so we can't drop the column neither can we impute it with mean or median as this may introduce heavy bias.\n",
    "-  **funding_round_code** and **founded_at** doesn't add significant value to the overall data analysis exercise;further it also is not advisable to impute these fields with computational values as this may introduce significant bias.So we will drop these 2 columns."
   ]
  },
  {
   "cell_type": "code",
   "execution_count": 15,
   "id": "assisted-clerk",
   "metadata": {},
   "outputs": [],
   "source": [
    "master_frame = master_frame.drop(columns = ['funding_round_code','founded_at'])"
   ]
  },
  {
   "cell_type": "code",
   "execution_count": 16,
   "id": "novel-reverse",
   "metadata": {},
   "outputs": [
    {
     "data": {
      "text/plain": [
       "(114949, 13)"
      ]
     },
     "execution_count": 16,
     "metadata": {},
     "output_type": "execute_result"
    }
   ],
   "source": [
    "master_frame.shape # Verify if the column is dropped - evident from change in shape from 15 to 13"
   ]
  },
  {
   "cell_type": "markdown",
   "id": "realistic-cookie",
   "metadata": {},
   "source": [
    "## Checkpoint 2: Funding Type Analysis"
   ]
  },
  {
   "cell_type": "markdown",
   "id": "abandoned-privacy",
   "metadata": {},
   "source": [
    "### <font color=blue>Find out representive funding amount for **'venture'**, **'angel'**,**'seed'** and **'private equity type'**\n",
    "\n",
    "1 Group by **'funding_round_type'** column and calculate **mean** of **'raised_amount_usd'** column"
   ]
  },
  {
   "cell_type": "code",
   "execution_count": 17,
   "id": "consolidated-entity",
   "metadata": {},
   "outputs": [
    {
     "data": {
      "text/plain": [
       "funding_round_type\n",
       "post_ipo_debt           168704571.82\n",
       "post_ipo_equity          82182493.87\n",
       "secondary_market         79649630.10\n",
       "private_equity           73308593.03\n",
       "undisclosed              19242370.23\n",
       "debt_financing           17043526.02\n",
       "venture                  11748949.13\n",
       "grant                     4300576.34\n",
       "convertible_note          1453438.54\n",
       "product_crowdfunding      1363131.07\n",
       "angel                      958694.47\n",
       "seed                       719818.00\n",
       "equity_crowdfunding        538368.21\n",
       "non_equity_assistance      411203.05\n",
       "Name: raised_amount_usd, dtype: float64"
      ]
     },
     "execution_count": 17,
     "metadata": {},
     "output_type": "execute_result"
    }
   ],
   "source": [
    "pd.options.display.float_format = '{:.2f}'.format #Lets set the display for the results limited upto 2 decimal places\n",
    "master_frame.groupby(by='funding_round_type')['raised_amount_usd'].mean().sort_values(ascending = False)"
   ]
  },
  {
   "cell_type": "markdown",
   "id": "altered-necessity",
   "metadata": {},
   "source": [
    "### <font color=blue>Considering that Spark Funds wants to invest between 5 to 15 million USD per  investment round, which investment type is the most suitable for them?"
   ]
  },
  {
   "cell_type": "markdown",
   "id": "specified-accessory",
   "metadata": {},
   "source": [
    "1.  Step 1-Creating a new DataFrame for only 4 Funding type"
   ]
  },
  {
   "cell_type": "code",
   "execution_count": 18,
   "id": "disabled-cabin",
   "metadata": {},
   "outputs": [
    {
     "data": {
      "text/html": [
       "<div>\n",
       "<style scoped>\n",
       "    .dataframe tbody tr th:only-of-type {\n",
       "        vertical-align: middle;\n",
       "    }\n",
       "\n",
       "    .dataframe tbody tr th {\n",
       "        vertical-align: top;\n",
       "    }\n",
       "\n",
       "    .dataframe thead th {\n",
       "        text-align: right;\n",
       "    }\n",
       "</style>\n",
       "<table border=\"1\" class=\"dataframe\">\n",
       "  <thead>\n",
       "    <tr style=\"text-align: right;\">\n",
       "      <th></th>\n",
       "      <th>funding_round_type</th>\n",
       "      <th>raised_amount_usd</th>\n",
       "    </tr>\n",
       "  </thead>\n",
       "  <tbody>\n",
       "    <tr>\n",
       "      <th>0</th>\n",
       "      <td>private_equity</td>\n",
       "      <td>73308593.03</td>\n",
       "    </tr>\n",
       "    <tr>\n",
       "      <th>1</th>\n",
       "      <td>venture</td>\n",
       "      <td>11748949.13</td>\n",
       "    </tr>\n",
       "    <tr>\n",
       "      <th>2</th>\n",
       "      <td>angel</td>\n",
       "      <td>958694.47</td>\n",
       "    </tr>\n",
       "    <tr>\n",
       "      <th>3</th>\n",
       "      <td>seed</td>\n",
       "      <td>719818.00</td>\n",
       "    </tr>\n",
       "  </tbody>\n",
       "</table>\n",
       "</div>"
      ],
      "text/plain": [
       "  funding_round_type  raised_amount_usd\n",
       "0     private_equity        73308593.03\n",
       "1            venture        11748949.13\n",
       "2              angel          958694.47\n",
       "3               seed          719818.00"
      ]
     },
     "execution_count": 18,
     "metadata": {},
     "output_type": "execute_result"
    }
   ],
   "source": [
    "funding_roundtypes_frame=pd.DataFrame(master_frame.loc[(master_frame['funding_round_type'] == 'angel') | \n",
    "                                                  (master_frame['funding_round_type'] == 'venture') | \n",
    "                                                  (master_frame['funding_round_type'] == 'seed') | \n",
    "                                                  (master_frame['funding_round_type'] == 'private_equity'), :].\n",
    "                                groupby('funding_round_type')['raised_amount_usd'].mean().sort_values(ascending = False))\n",
    "funding_roundtypes_frame.reset_index(inplace=True)\n",
    "funding_roundtypes_frame.head()"
   ]
  },
  {
   "cell_type": "markdown",
   "id": "signal-weight",
   "metadata": {},
   "source": [
    "2.  Step 2 - Find the right **'funding_round_type'** sector to invest between 5 to 15 million USD"
   ]
  },
  {
   "cell_type": "code",
   "execution_count": 19,
   "id": "structured-butterfly",
   "metadata": {},
   "outputs": [
    {
     "data": {
      "text/html": [
       "<div>\n",
       "<style scoped>\n",
       "    .dataframe tbody tr th:only-of-type {\n",
       "        vertical-align: middle;\n",
       "    }\n",
       "\n",
       "    .dataframe tbody tr th {\n",
       "        vertical-align: top;\n",
       "    }\n",
       "\n",
       "    .dataframe thead th {\n",
       "        text-align: right;\n",
       "    }\n",
       "</style>\n",
       "<table border=\"1\" class=\"dataframe\">\n",
       "  <thead>\n",
       "    <tr style=\"text-align: right;\">\n",
       "      <th></th>\n",
       "      <th>funding_round_type</th>\n",
       "      <th>raised_amount_usd</th>\n",
       "    </tr>\n",
       "  </thead>\n",
       "  <tbody>\n",
       "    <tr>\n",
       "      <th>1</th>\n",
       "      <td>venture</td>\n",
       "      <td>11748949.13</td>\n",
       "    </tr>\n",
       "  </tbody>\n",
       "</table>\n",
       "</div>"
      ],
      "text/plain": [
       "  funding_round_type  raised_amount_usd\n",
       "1            venture        11748949.13"
      ]
     },
     "execution_count": 19,
     "metadata": {},
     "output_type": "execute_result"
    }
   ],
   "source": [
    "funding_roundtypes_frame.loc[(funding_roundtypes_frame['raised_amount_usd'] > 5000000.00) &\n",
    "                        (funding_roundtypes_frame['raised_amount_usd'] < 15000000.00)]"
   ]
  },
  {
   "cell_type": "markdown",
   "id": "fresh-outreach",
   "metadata": {},
   "source": [
    "#### As evident from the above table,Spark Funds should consider to invest between 5 to 15 million USD in **'Venture'** funding rounds "
   ]
  },
  {
   "cell_type": "markdown",
   "id": "latest-italy",
   "metadata": {},
   "source": [
    "### <font color=blue> Identify the investment type and for further analysis, filter the data so it only contains the chosen investment type."
   ]
  },
  {
   "cell_type": "markdown",
   "id": "ordered-closer",
   "metadata": {},
   "source": [
    "-  Creating a dataframe named as ***'venture_funding'***"
   ]
  },
  {
   "cell_type": "code",
   "execution_count": 20,
   "id": "bronze-resort",
   "metadata": {},
   "outputs": [],
   "source": [
    "venture_funding = master_frame.loc[master_frame['funding_round_type'] == 'venture', :]"
   ]
  },
  {
   "cell_type": "markdown",
   "id": "collect-gibson",
   "metadata": {},
   "source": [
    "## Checkpoint 3: Country Analysis"
   ]
  },
  {
   "cell_type": "markdown",
   "id": "facial-gibson",
   "metadata": {},
   "source": [
    "1.  ### <font color=blue>Spark Funds wants to see the top nine countries which have received the highest total funding (across ALL sectors for the chosen investment type)\n",
    "\n",
    "2.  ### <font color=blue>For the chosen investment type, make a data frame named top9 with the top nine countries (based on the total investment amount each country has received"
   ]
  },
  {
   "cell_type": "markdown",
   "id": "competent-nickel",
   "metadata": {},
   "source": [
    "**_Steps followed:_**\n",
    "1.  To create a new dataframe **'top9'**,I am using the earlier created dataframe **'venture_funding'**.\n",
    "2.  First,I am doing **groupby()** by **'country_code'** and then taking the sum of **'raised_amount_usd'**"
   ]
  },
  {
   "cell_type": "code",
   "execution_count": 21,
   "id": "short-leone",
   "metadata": {},
   "outputs": [
    {
     "data": {
      "text/html": [
       "<div>\n",
       "<style scoped>\n",
       "    .dataframe tbody tr th:only-of-type {\n",
       "        vertical-align: middle;\n",
       "    }\n",
       "\n",
       "    .dataframe tbody tr th {\n",
       "        vertical-align: top;\n",
       "    }\n",
       "\n",
       "    .dataframe thead th {\n",
       "        text-align: right;\n",
       "    }\n",
       "</style>\n",
       "<table border=\"1\" class=\"dataframe\">\n",
       "  <thead>\n",
       "    <tr style=\"text-align: right;\">\n",
       "      <th></th>\n",
       "      <th>country_code</th>\n",
       "      <th>raised_amount_usd</th>\n",
       "    </tr>\n",
       "  </thead>\n",
       "  <tbody>\n",
       "    <tr>\n",
       "      <th>0</th>\n",
       "      <td>USA</td>\n",
       "      <td>422510842796.00</td>\n",
       "    </tr>\n",
       "    <tr>\n",
       "      <th>1</th>\n",
       "      <td>CHN</td>\n",
       "      <td>39835418773.00</td>\n",
       "    </tr>\n",
       "    <tr>\n",
       "      <th>2</th>\n",
       "      <td>GBR</td>\n",
       "      <td>20245627416.00</td>\n",
       "    </tr>\n",
       "    <tr>\n",
       "      <th>3</th>\n",
       "      <td>IND</td>\n",
       "      <td>14391858718.00</td>\n",
       "    </tr>\n",
       "    <tr>\n",
       "      <th>4</th>\n",
       "      <td>CAN</td>\n",
       "      <td>9583332317.00</td>\n",
       "    </tr>\n",
       "    <tr>\n",
       "      <th>5</th>\n",
       "      <td>FRA</td>\n",
       "      <td>7259536732.00</td>\n",
       "    </tr>\n",
       "    <tr>\n",
       "      <th>6</th>\n",
       "      <td>ISR</td>\n",
       "      <td>6907514579.00</td>\n",
       "    </tr>\n",
       "    <tr>\n",
       "      <th>7</th>\n",
       "      <td>DEU</td>\n",
       "      <td>6346959822.00</td>\n",
       "    </tr>\n",
       "    <tr>\n",
       "      <th>8</th>\n",
       "      <td>JPN</td>\n",
       "      <td>3363676611.00</td>\n",
       "    </tr>\n",
       "  </tbody>\n",
       "</table>\n",
       "</div>"
      ],
      "text/plain": [
       "  country_code  raised_amount_usd\n",
       "0          USA    422510842796.00\n",
       "1          CHN     39835418773.00\n",
       "2          GBR     20245627416.00\n",
       "3          IND     14391858718.00\n",
       "4          CAN      9583332317.00\n",
       "5          FRA      7259536732.00\n",
       "6          ISR      6907514579.00\n",
       "7          DEU      6346959822.00\n",
       "8          JPN      3363676611.00"
      ]
     },
     "execution_count": 21,
     "metadata": {},
     "output_type": "execute_result"
    }
   ],
   "source": [
    "top9 = pd.DataFrame(venture_funding.groupby('country_code')['raised_amount_usd'].sum().sort_values(ascending = False))\n",
    "top9.reset_index(inplace=True) ## THIS IS REQUIRED FOR EASY PLOTTING OF BAR CHART FOR TOP 9 COUNTRIES\n",
    "top9.head(n=9)"
   ]
  },
  {
   "cell_type": "markdown",
   "id": "worldwide-burner",
   "metadata": {},
   "source": [
    "### <font color=blue> Identify the top three English-speaking countries in the data frame top9\n",
    "\n",
    "1.  From **'top9'** dataframe,we can conclude that **'USA,GBR and IND'** are the top 3 countries where English is an official language.This is based on the wiki link provided as part of the assignment -    \n",
    "    **_https://en.wikipedia.org/wiki/List_of_territorial_entities_where_English_is_an_official_language**"
   ]
  },
  {
   "cell_type": "markdown",
   "id": "assured-reputation",
   "metadata": {},
   "source": [
    "## Checkpoint 4: Sector Analysis 1"
   ]
  },
  {
   "cell_type": "markdown",
   "id": "rocky-lounge",
   "metadata": {},
   "source": [
    "### <font color=blue>Extract the primary sector of each category list from the category_list column"
   ]
  },
  {
   "cell_type": "markdown",
   "id": "subjective-shape",
   "metadata": {},
   "source": [
    "**_Steps followed:_**\n",
    "1.  Post discussion with the CEO it has been agreed that the first string before the **'|'** will be considered the primary sector.So,I am using split function to select the right value.\n",
    "2.  I am also converting the values in the column to UPPER character which will help in future data analysis with other dataframes."
   ]
  },
  {
   "cell_type": "code",
   "execution_count": 22,
   "id": "fallen-houston",
   "metadata": {},
   "outputs": [
    {
     "data": {
      "text/plain": [
       "0                         MEDIA\n",
       "1         APPLICATION PLATFORMS\n",
       "3                          APPS\n",
       "4                   CURATED WEB\n",
       "5                      SOFTWARE\n",
       "                  ...          \n",
       "114934               E-COMMERCE\n",
       "114936            BIOTECHNOLOGY\n",
       "114937            BIOTECHNOLOGY\n",
       "114941      ENTERPRISE SOFTWARE\n",
       "114946                      NaN\n",
       "Name: primary_sector, Length: 55494, dtype: object"
      ]
     },
     "execution_count": 22,
     "metadata": {},
     "output_type": "execute_result"
    }
   ],
   "source": [
    "pd.set_option('mode.chained_assignment', None)\n",
    "venture_funding.loc[:,'primary_sector'] = venture_funding['category_list'].str.split('|').str[0].str.upper().copy()\n",
    "venture_funding.loc[:,'primary_sector']"
   ]
  },
  {
   "cell_type": "markdown",
   "id": "acute-swing",
   "metadata": {},
   "source": [
    "### <font color=blue> Use the mapping file 'mapping.csv' to map each primary sector to one of the eight main sectors (Note that ‘Others’ is also considered one of the main sectors)\n",
    "\n",
    "1.  Expected Results: Code for a merged data frame with each primary sector mapped to its main sector (the primary sector should be present in a separate column)."
   ]
  },
  {
   "cell_type": "markdown",
   "id": "unique-narrative",
   "metadata": {},
   "source": [
    "**_Steps followed:_**\n",
    "1.  First I will load the ***'sector mapping'*** dataset from the csv file into a new dataframe."
   ]
  },
  {
   "cell_type": "code",
   "execution_count": 23,
   "id": "elect-cameroon",
   "metadata": {},
   "outputs": [
    {
     "data": {
      "text/html": [
       "<div>\n",
       "<style scoped>\n",
       "    .dataframe tbody tr th:only-of-type {\n",
       "        vertical-align: middle;\n",
       "    }\n",
       "\n",
       "    .dataframe tbody tr th {\n",
       "        vertical-align: top;\n",
       "    }\n",
       "\n",
       "    .dataframe thead th {\n",
       "        text-align: right;\n",
       "    }\n",
       "</style>\n",
       "<table border=\"1\" class=\"dataframe\">\n",
       "  <thead>\n",
       "    <tr style=\"text-align: right;\">\n",
       "      <th></th>\n",
       "      <th>category_list</th>\n",
       "      <th>Automotive &amp; Sports</th>\n",
       "      <th>Blanks</th>\n",
       "      <th>Cleantech / Semiconductors</th>\n",
       "      <th>Entertainment</th>\n",
       "      <th>Health</th>\n",
       "      <th>Manufacturing</th>\n",
       "      <th>News, Search and Messaging</th>\n",
       "      <th>Others</th>\n",
       "      <th>Social, Finance, Analytics, Advertising</th>\n",
       "    </tr>\n",
       "  </thead>\n",
       "  <tbody>\n",
       "    <tr>\n",
       "      <th>0</th>\n",
       "      <td>NaN</td>\n",
       "      <td>0</td>\n",
       "      <td>1</td>\n",
       "      <td>0</td>\n",
       "      <td>0</td>\n",
       "      <td>0</td>\n",
       "      <td>0</td>\n",
       "      <td>0</td>\n",
       "      <td>0</td>\n",
       "      <td>0</td>\n",
       "    </tr>\n",
       "    <tr>\n",
       "      <th>1</th>\n",
       "      <td>3D</td>\n",
       "      <td>0</td>\n",
       "      <td>0</td>\n",
       "      <td>0</td>\n",
       "      <td>0</td>\n",
       "      <td>0</td>\n",
       "      <td>1</td>\n",
       "      <td>0</td>\n",
       "      <td>0</td>\n",
       "      <td>0</td>\n",
       "    </tr>\n",
       "    <tr>\n",
       "      <th>2</th>\n",
       "      <td>3D Printing</td>\n",
       "      <td>0</td>\n",
       "      <td>0</td>\n",
       "      <td>0</td>\n",
       "      <td>0</td>\n",
       "      <td>0</td>\n",
       "      <td>1</td>\n",
       "      <td>0</td>\n",
       "      <td>0</td>\n",
       "      <td>0</td>\n",
       "    </tr>\n",
       "    <tr>\n",
       "      <th>3</th>\n",
       "      <td>3D Technology</td>\n",
       "      <td>0</td>\n",
       "      <td>0</td>\n",
       "      <td>0</td>\n",
       "      <td>0</td>\n",
       "      <td>0</td>\n",
       "      <td>1</td>\n",
       "      <td>0</td>\n",
       "      <td>0</td>\n",
       "      <td>0</td>\n",
       "    </tr>\n",
       "    <tr>\n",
       "      <th>4</th>\n",
       "      <td>Accounting</td>\n",
       "      <td>0</td>\n",
       "      <td>0</td>\n",
       "      <td>0</td>\n",
       "      <td>0</td>\n",
       "      <td>0</td>\n",
       "      <td>0</td>\n",
       "      <td>0</td>\n",
       "      <td>0</td>\n",
       "      <td>1</td>\n",
       "    </tr>\n",
       "  </tbody>\n",
       "</table>\n",
       "</div>"
      ],
      "text/plain": [
       "   category_list  Automotive & Sports  Blanks  Cleantech / Semiconductors  \\\n",
       "0            NaN                    0       1                           0   \n",
       "1             3D                    0       0                           0   \n",
       "2    3D Printing                    0       0                           0   \n",
       "3  3D Technology                    0       0                           0   \n",
       "4     Accounting                    0       0                           0   \n",
       "\n",
       "   Entertainment  Health  Manufacturing  News, Search and Messaging  Others  \\\n",
       "0              0       0              0                           0       0   \n",
       "1              0       0              1                           0       0   \n",
       "2              0       0              1                           0       0   \n",
       "3              0       0              1                           0       0   \n",
       "4              0       0              0                           0       0   \n",
       "\n",
       "   Social, Finance, Analytics, Advertising  \n",
       "0                                        0  \n",
       "1                                        0  \n",
       "2                                        0  \n",
       "3                                        0  \n",
       "4                                        1  "
      ]
     },
     "execution_count": 23,
     "metadata": {},
     "output_type": "execute_result"
    }
   ],
   "source": [
    "sector_mapping = pd.read_csv(\"mapping.csv\",sep=\",\",encoding = \"palmos\")\n",
    "sector_mapping.head()"
   ]
  },
  {
   "cell_type": "markdown",
   "id": "entire-junior",
   "metadata": {},
   "source": [
    "2.  There is 1 instance of a missing value in the **'category_list'** column which we can impute with **'na'** value.I have done this below."
   ]
  },
  {
   "cell_type": "code",
   "execution_count": 24,
   "id": "optimum-republican",
   "metadata": {},
   "outputs": [],
   "source": [
    "sector_mapping.replace({'category_list': '0'},{'category_list': 'na'},regex=True,inplace=True)"
   ]
  },
  {
   "cell_type": "markdown",
   "id": "sapphire-benchmark",
   "metadata": {},
   "source": [
    "3.   Now I need to transpose the column names in the dataframe to a column called ***'main_sector'*** and get the value for each match.This can be achieved by Python's native **melt()** function.\n",
    "4.   Once the transposing of the columns are done,I have removed the rows with '0' in **'Values'** columns and 'Blank' in **'main_sector'** columns.\n",
    "5.   I am also dropping the **'value'** column as it is not relevant for my data analysis"
   ]
  },
  {
   "cell_type": "code",
   "execution_count": 25,
   "id": "congressional-template",
   "metadata": {},
   "outputs": [
    {
     "data": {
      "text/html": [
       "<div>\n",
       "<style scoped>\n",
       "    .dataframe tbody tr th:only-of-type {\n",
       "        vertical-align: middle;\n",
       "    }\n",
       "\n",
       "    .dataframe tbody tr th {\n",
       "        vertical-align: top;\n",
       "    }\n",
       "\n",
       "    .dataframe thead th {\n",
       "        text-align: right;\n",
       "    }\n",
       "</style>\n",
       "<table border=\"1\" class=\"dataframe\">\n",
       "  <thead>\n",
       "    <tr style=\"text-align: right;\">\n",
       "      <th></th>\n",
       "      <th>category_list</th>\n",
       "      <th>main_sector</th>\n",
       "    </tr>\n",
       "  </thead>\n",
       "  <tbody>\n",
       "    <tr>\n",
       "      <th>8</th>\n",
       "      <td>ADVENTURE TRAVEL</td>\n",
       "      <td>Automotive &amp; Sports</td>\n",
       "    </tr>\n",
       "    <tr>\n",
       "      <th>14</th>\n",
       "      <td>AEROSPACE</td>\n",
       "      <td>Automotive &amp; Sports</td>\n",
       "    </tr>\n",
       "    <tr>\n",
       "      <th>45</th>\n",
       "      <td>AUTO</td>\n",
       "      <td>Automotive &amp; Sports</td>\n",
       "    </tr>\n",
       "    <tr>\n",
       "      <th>46</th>\n",
       "      <td>AUTOMATED KIOSK</td>\n",
       "      <td>Automotive &amp; Sports</td>\n",
       "    </tr>\n",
       "    <tr>\n",
       "      <th>47</th>\n",
       "      <td>AUTOMOTIVE</td>\n",
       "      <td>Automotive &amp; Sports</td>\n",
       "    </tr>\n",
       "    <tr>\n",
       "      <th>...</th>\n",
       "      <td>...</td>\n",
       "      <td>...</td>\n",
       "    </tr>\n",
       "    <tr>\n",
       "      <th>6121</th>\n",
       "      <td>SOCIAL RECRUITING</td>\n",
       "      <td>Social, Finance, Analytics, Advertising</td>\n",
       "    </tr>\n",
       "    <tr>\n",
       "      <th>6122</th>\n",
       "      <td>SOCIAL TELEVISION</td>\n",
       "      <td>Social, Finance, Analytics, Advertising</td>\n",
       "    </tr>\n",
       "    <tr>\n",
       "      <th>6123</th>\n",
       "      <td>SOCIAL TRAVEL</td>\n",
       "      <td>Social, Finance, Analytics, Advertising</td>\n",
       "    </tr>\n",
       "    <tr>\n",
       "      <th>6134</th>\n",
       "      <td>STOCK EXCHANGES</td>\n",
       "      <td>Social, Finance, Analytics, Advertising</td>\n",
       "    </tr>\n",
       "    <tr>\n",
       "      <th>6167</th>\n",
       "      <td>VENTURE CAPITAL</td>\n",
       "      <td>Social, Finance, Analytics, Advertising</td>\n",
       "    </tr>\n",
       "  </tbody>\n",
       "</table>\n",
       "<p>687 rows × 2 columns</p>\n",
       "</div>"
      ],
      "text/plain": [
       "          category_list                              main_sector\n",
       "8      ADVENTURE TRAVEL                      Automotive & Sports\n",
       "14            AEROSPACE                      Automotive & Sports\n",
       "45                 AUTO                      Automotive & Sports\n",
       "46      AUTOMATED KIOSK                      Automotive & Sports\n",
       "47           AUTOMOTIVE                      Automotive & Sports\n",
       "...                 ...                                      ...\n",
       "6121  SOCIAL RECRUITING  Social, Finance, Analytics, Advertising\n",
       "6122  SOCIAL TELEVISION  Social, Finance, Analytics, Advertising\n",
       "6123      SOCIAL TRAVEL  Social, Finance, Analytics, Advertising\n",
       "6134    STOCK EXCHANGES  Social, Finance, Analytics, Advertising\n",
       "6167    VENTURE CAPITAL  Social, Finance, Analytics, Advertising\n",
       "\n",
       "[687 rows x 2 columns]"
      ]
     },
     "execution_count": 25,
     "metadata": {},
     "output_type": "execute_result"
    }
   ],
   "source": [
    "sector_mapping = sector_mapping.melt(id_vars=\"category_list\",var_name=\"main_sector\")\n",
    "sector_mapping = sector_mapping.loc[~(sector_mapping[\"value\"]==0)]\n",
    "sector_mapping = sector_mapping.loc[~(sector_mapping['main_sector']=='Blanks')]\n",
    "sector_mapping['category_list'] = sector_mapping['category_list'].str.upper()\n",
    "sector_mapping.drop(columns=\"value\")"
   ]
  },
  {
   "cell_type": "markdown",
   "id": "improving-excerpt",
   "metadata": {},
   "source": [
    "6.   Now I will create the merged dataframe **'venture_funding_sector'** with each primary sector mapped to it's main sector.\n",
    "7.   I am also dropping **'category_list_y'** column from the resultant dataset as this is a duplicate of **'primary_sector'** column."
   ]
  },
  {
   "cell_type": "code",
   "execution_count": 26,
   "id": "spiritual-sussex",
   "metadata": {},
   "outputs": [
    {
     "data": {
      "text/html": [
       "<div>\n",
       "<style scoped>\n",
       "    .dataframe tbody tr th:only-of-type {\n",
       "        vertical-align: middle;\n",
       "    }\n",
       "\n",
       "    .dataframe tbody tr th {\n",
       "        vertical-align: top;\n",
       "    }\n",
       "\n",
       "    .dataframe thead th {\n",
       "        text-align: right;\n",
       "    }\n",
       "</style>\n",
       "<table border=\"1\" class=\"dataframe\">\n",
       "  <thead>\n",
       "    <tr style=\"text-align: right;\">\n",
       "      <th></th>\n",
       "      <th>company_permalink</th>\n",
       "      <th>funding_round_permalink</th>\n",
       "      <th>funding_round_type</th>\n",
       "      <th>funded_at</th>\n",
       "      <th>raised_amount_usd</th>\n",
       "      <th>name</th>\n",
       "      <th>homepage_url</th>\n",
       "      <th>category_list_x</th>\n",
       "      <th>status</th>\n",
       "      <th>country_code</th>\n",
       "      <th>state_code</th>\n",
       "      <th>region</th>\n",
       "      <th>city</th>\n",
       "      <th>primary_sector</th>\n",
       "      <th>main_sector</th>\n",
       "    </tr>\n",
       "  </thead>\n",
       "  <tbody>\n",
       "    <tr>\n",
       "      <th>0</th>\n",
       "      <td>/ORGANIZATION/-FAME</td>\n",
       "      <td>/funding-round/9a01d05418af9f794eebff7ace91f638</td>\n",
       "      <td>venture</td>\n",
       "      <td>05-01-2015</td>\n",
       "      <td>10000000.00</td>\n",
       "      <td>#fame</td>\n",
       "      <td>http://livfame.com</td>\n",
       "      <td>Media</td>\n",
       "      <td>operating</td>\n",
       "      <td>IND</td>\n",
       "      <td>16</td>\n",
       "      <td>Mumbai</td>\n",
       "      <td>Mumbai</td>\n",
       "      <td>MEDIA</td>\n",
       "      <td>Entertainment</td>\n",
       "    </tr>\n",
       "    <tr>\n",
       "      <th>1</th>\n",
       "      <td>/ORGANIZATION/90MIN</td>\n",
       "      <td>/funding-round/21a2cbf6f2fb2a1c2a61e04bf930dfe6</td>\n",
       "      <td>venture</td>\n",
       "      <td>06-10-2015</td>\n",
       "      <td>15000000.00</td>\n",
       "      <td>90min</td>\n",
       "      <td>http://www.90min.com</td>\n",
       "      <td>Media|News|Publishing|Soccer|Sports</td>\n",
       "      <td>operating</td>\n",
       "      <td>GBR</td>\n",
       "      <td>H9</td>\n",
       "      <td>London</td>\n",
       "      <td>London</td>\n",
       "      <td>MEDIA</td>\n",
       "      <td>Entertainment</td>\n",
       "    </tr>\n",
       "    <tr>\n",
       "      <th>2</th>\n",
       "      <td>/ORGANIZATION/90MIN</td>\n",
       "      <td>/funding-round/bd626ed022f5c66574b1afe234f3c90d</td>\n",
       "      <td>venture</td>\n",
       "      <td>07-05-2013</td>\n",
       "      <td>5800000.00</td>\n",
       "      <td>90min</td>\n",
       "      <td>http://www.90min.com</td>\n",
       "      <td>Media|News|Publishing|Soccer|Sports</td>\n",
       "      <td>operating</td>\n",
       "      <td>GBR</td>\n",
       "      <td>H9</td>\n",
       "      <td>London</td>\n",
       "      <td>London</td>\n",
       "      <td>MEDIA</td>\n",
       "      <td>Entertainment</td>\n",
       "    </tr>\n",
       "    <tr>\n",
       "      <th>3</th>\n",
       "      <td>/ORGANIZATION/90MIN</td>\n",
       "      <td>/funding-round/fd4b15e8c97ee2ffc0acccdbe1a98810</td>\n",
       "      <td>venture</td>\n",
       "      <td>26-03-2014</td>\n",
       "      <td>18000000.00</td>\n",
       "      <td>90min</td>\n",
       "      <td>http://www.90min.com</td>\n",
       "      <td>Media|News|Publishing|Soccer|Sports</td>\n",
       "      <td>operating</td>\n",
       "      <td>GBR</td>\n",
       "      <td>H9</td>\n",
       "      <td>London</td>\n",
       "      <td>London</td>\n",
       "      <td>MEDIA</td>\n",
       "      <td>Entertainment</td>\n",
       "    </tr>\n",
       "    <tr>\n",
       "      <th>4</th>\n",
       "      <td>/ORGANIZATION/ALL-DEF-DIGITAL</td>\n",
       "      <td>/funding-round/452a2342fe720285c3b92e9bd927d9ba</td>\n",
       "      <td>venture</td>\n",
       "      <td>06-08-2014</td>\n",
       "      <td>5000000.00</td>\n",
       "      <td>All Def Digital</td>\n",
       "      <td>http://alldefdigital.com</td>\n",
       "      <td>Media</td>\n",
       "      <td>operating</td>\n",
       "      <td>USA</td>\n",
       "      <td>CA</td>\n",
       "      <td>Los Angeles</td>\n",
       "      <td>Los Angeles</td>\n",
       "      <td>MEDIA</td>\n",
       "      <td>Entertainment</td>\n",
       "    </tr>\n",
       "    <tr>\n",
       "      <th>5</th>\n",
       "      <td>/ORGANIZATION/AUDIOSOCKET</td>\n",
       "      <td>/funding-round/0959f59e3a89bc8db8c6ed9c646349fd</td>\n",
       "      <td>venture</td>\n",
       "      <td>02-05-2013</td>\n",
       "      <td>650000.00</td>\n",
       "      <td>Audiosocket</td>\n",
       "      <td>http://audiosocket.com</td>\n",
       "      <td>Media|Music|Technology</td>\n",
       "      <td>operating</td>\n",
       "      <td>USA</td>\n",
       "      <td>WA</td>\n",
       "      <td>Seattle</td>\n",
       "      <td>Seattle</td>\n",
       "      <td>MEDIA</td>\n",
       "      <td>Entertainment</td>\n",
       "    </tr>\n",
       "    <tr>\n",
       "      <th>6</th>\n",
       "      <td>/ORGANIZATION/AUDIOSOCKET</td>\n",
       "      <td>/funding-round/4e3a53eec6c609943df752206070b23f</td>\n",
       "      <td>venture</td>\n",
       "      <td>02-09-2009</td>\n",
       "      <td>750000.00</td>\n",
       "      <td>Audiosocket</td>\n",
       "      <td>http://audiosocket.com</td>\n",
       "      <td>Media|Music|Technology</td>\n",
       "      <td>operating</td>\n",
       "      <td>USA</td>\n",
       "      <td>WA</td>\n",
       "      <td>Seattle</td>\n",
       "      <td>Seattle</td>\n",
       "      <td>MEDIA</td>\n",
       "      <td>Entertainment</td>\n",
       "    </tr>\n",
       "    <tr>\n",
       "      <th>7</th>\n",
       "      <td>/ORGANIZATION/AUDIOSOCKET</td>\n",
       "      <td>/funding-round/bc0b412cf2fa7b739e4105ad756b47a4</td>\n",
       "      <td>venture</td>\n",
       "      <td>15-02-2012</td>\n",
       "      <td>1582300.00</td>\n",
       "      <td>Audiosocket</td>\n",
       "      <td>http://audiosocket.com</td>\n",
       "      <td>Media|Music|Technology</td>\n",
       "      <td>operating</td>\n",
       "      <td>USA</td>\n",
       "      <td>WA</td>\n",
       "      <td>Seattle</td>\n",
       "      <td>Seattle</td>\n",
       "      <td>MEDIA</td>\n",
       "      <td>Entertainment</td>\n",
       "    </tr>\n",
       "    <tr>\n",
       "      <th>8</th>\n",
       "      <td>/ORGANIZATION/BABBLE</td>\n",
       "      <td>/funding-round/43cc678b39be3e684bb88501af05ff9b</td>\n",
       "      <td>venture</td>\n",
       "      <td>05-02-2009</td>\n",
       "      <td>2000000.00</td>\n",
       "      <td>Babble</td>\n",
       "      <td>http://www.babble.com</td>\n",
       "      <td>Media|News|Parenting</td>\n",
       "      <td>acquired</td>\n",
       "      <td>USA</td>\n",
       "      <td>NY</td>\n",
       "      <td>New York City</td>\n",
       "      <td>New York</td>\n",
       "      <td>MEDIA</td>\n",
       "      <td>Entertainment</td>\n",
       "    </tr>\n",
       "    <tr>\n",
       "      <th>9</th>\n",
       "      <td>/ORGANIZATION/BABBLE</td>\n",
       "      <td>/funding-round/5fdb3dbeeb6eea0243702adc372130f3</td>\n",
       "      <td>venture</td>\n",
       "      <td>12-05-2009</td>\n",
       "      <td>1250000.00</td>\n",
       "      <td>Babble</td>\n",
       "      <td>http://www.babble.com</td>\n",
       "      <td>Media|News|Parenting</td>\n",
       "      <td>acquired</td>\n",
       "      <td>USA</td>\n",
       "      <td>NY</td>\n",
       "      <td>New York City</td>\n",
       "      <td>New York</td>\n",
       "      <td>MEDIA</td>\n",
       "      <td>Entertainment</td>\n",
       "    </tr>\n",
       "  </tbody>\n",
       "</table>\n",
       "</div>"
      ],
      "text/plain": [
       "               company_permalink  \\\n",
       "0            /ORGANIZATION/-FAME   \n",
       "1            /ORGANIZATION/90MIN   \n",
       "2            /ORGANIZATION/90MIN   \n",
       "3            /ORGANIZATION/90MIN   \n",
       "4  /ORGANIZATION/ALL-DEF-DIGITAL   \n",
       "5      /ORGANIZATION/AUDIOSOCKET   \n",
       "6      /ORGANIZATION/AUDIOSOCKET   \n",
       "7      /ORGANIZATION/AUDIOSOCKET   \n",
       "8           /ORGANIZATION/BABBLE   \n",
       "9           /ORGANIZATION/BABBLE   \n",
       "\n",
       "                           funding_round_permalink funding_round_type  \\\n",
       "0  /funding-round/9a01d05418af9f794eebff7ace91f638            venture   \n",
       "1  /funding-round/21a2cbf6f2fb2a1c2a61e04bf930dfe6            venture   \n",
       "2  /funding-round/bd626ed022f5c66574b1afe234f3c90d            venture   \n",
       "3  /funding-round/fd4b15e8c97ee2ffc0acccdbe1a98810            venture   \n",
       "4  /funding-round/452a2342fe720285c3b92e9bd927d9ba            venture   \n",
       "5  /funding-round/0959f59e3a89bc8db8c6ed9c646349fd            venture   \n",
       "6  /funding-round/4e3a53eec6c609943df752206070b23f            venture   \n",
       "7  /funding-round/bc0b412cf2fa7b739e4105ad756b47a4            venture   \n",
       "8  /funding-round/43cc678b39be3e684bb88501af05ff9b            venture   \n",
       "9  /funding-round/5fdb3dbeeb6eea0243702adc372130f3            venture   \n",
       "\n",
       "    funded_at  raised_amount_usd             name              homepage_url  \\\n",
       "0  05-01-2015        10000000.00            #fame        http://livfame.com   \n",
       "1  06-10-2015        15000000.00            90min      http://www.90min.com   \n",
       "2  07-05-2013         5800000.00            90min      http://www.90min.com   \n",
       "3  26-03-2014        18000000.00            90min      http://www.90min.com   \n",
       "4  06-08-2014         5000000.00  All Def Digital  http://alldefdigital.com   \n",
       "5  02-05-2013          650000.00      Audiosocket    http://audiosocket.com   \n",
       "6  02-09-2009          750000.00      Audiosocket    http://audiosocket.com   \n",
       "7  15-02-2012         1582300.00      Audiosocket    http://audiosocket.com   \n",
       "8  05-02-2009         2000000.00           Babble     http://www.babble.com   \n",
       "9  12-05-2009         1250000.00           Babble     http://www.babble.com   \n",
       "\n",
       "                       category_list_x     status country_code state_code  \\\n",
       "0                                Media  operating          IND         16   \n",
       "1  Media|News|Publishing|Soccer|Sports  operating          GBR         H9   \n",
       "2  Media|News|Publishing|Soccer|Sports  operating          GBR         H9   \n",
       "3  Media|News|Publishing|Soccer|Sports  operating          GBR         H9   \n",
       "4                                Media  operating          USA         CA   \n",
       "5               Media|Music|Technology  operating          USA         WA   \n",
       "6               Media|Music|Technology  operating          USA         WA   \n",
       "7               Media|Music|Technology  operating          USA         WA   \n",
       "8                 Media|News|Parenting   acquired          USA         NY   \n",
       "9                 Media|News|Parenting   acquired          USA         NY   \n",
       "\n",
       "          region         city primary_sector    main_sector  \n",
       "0         Mumbai       Mumbai          MEDIA  Entertainment  \n",
       "1         London       London          MEDIA  Entertainment  \n",
       "2         London       London          MEDIA  Entertainment  \n",
       "3         London       London          MEDIA  Entertainment  \n",
       "4    Los Angeles  Los Angeles          MEDIA  Entertainment  \n",
       "5        Seattle      Seattle          MEDIA  Entertainment  \n",
       "6        Seattle      Seattle          MEDIA  Entertainment  \n",
       "7        Seattle      Seattle          MEDIA  Entertainment  \n",
       "8  New York City     New York          MEDIA  Entertainment  \n",
       "9  New York City     New York          MEDIA  Entertainment  "
      ]
     },
     "execution_count": 26,
     "metadata": {},
     "output_type": "execute_result"
    }
   ],
   "source": [
    "venture_funding_sector = pd.merge(venture_funding,sector_mapping,how='inner',left_on='primary_sector',right_on='category_list')\n",
    "venture_funding_sector.drop(columns=[\"category_list_y\",\"value\"],inplace=True)\n",
    "venture_funding_sector.head(n=10)"
   ]
  },
  {
   "cell_type": "markdown",
   "id": "appropriate-sullivan",
   "metadata": {},
   "source": [
    "## Checkpoint 5: Sector Analysis 2"
   ]
  },
  {
   "cell_type": "markdown",
   "id": "desirable-circus",
   "metadata": {},
   "source": [
    "### <font color=blue> Create three separate data frames **D1**, **D2** and **D3** for **USA,GBR and IND** containing the observations of Venture funding falling within the 5-15 million USD range. \n",
    "\n",
    "-   The three data frames should contain all the columns of the master_frame along with the **'main sector'** and the **'primary sector'**.\n",
    "-   Calculate the total number of investments and the total amount of investments in each main sector for each of the three countries."
   ]
  },
  {
   "cell_type": "code",
   "execution_count": 27,
   "id": "checked-leather",
   "metadata": {},
   "outputs": [],
   "source": [
    "D1 = venture_funding_sector.loc[venture_funding_sector['country_code'] == 'USA']#Dataframe for USA \n",
    "D2 = venture_funding_sector.loc[venture_funding_sector['country_code'] == 'GBR']#Dataframe for GBR\n",
    "D3 = venture_funding_sector.loc[venture_funding_sector['country_code'] == 'IND']#Dataframe for IND"
   ]
  },
  {
   "cell_type": "markdown",
   "id": "respiratory-guide",
   "metadata": {},
   "source": [
    "#### <font color=green> Below I have provided the responses for Table 5.1 - ***'Sector-wise Investment Analysis'***"
   ]
  },
  {
   "cell_type": "markdown",
   "id": "subtle-basket",
   "metadata": {},
   "source": [
    "1.  Total ***'Total Count of Investment'***,sector-wise,across ***USA,GBR and IND***"
   ]
  },
  {
   "cell_type": "code",
   "execution_count": 28,
   "id": "attached-samba",
   "metadata": {},
   "outputs": [
    {
     "data": {
      "text/html": [
       "<div>\n",
       "<style scoped>\n",
       "    .dataframe tbody tr th:only-of-type {\n",
       "        vertical-align: middle;\n",
       "    }\n",
       "\n",
       "    .dataframe tbody tr th {\n",
       "        vertical-align: top;\n",
       "    }\n",
       "\n",
       "    .dataframe thead th {\n",
       "        text-align: right;\n",
       "    }\n",
       "</style>\n",
       "<table border=\"1\" class=\"dataframe\">\n",
       "  <thead>\n",
       "    <tr style=\"text-align: right;\">\n",
       "      <th></th>\n",
       "      <th>Total_Investment_Count</th>\n",
       "    </tr>\n",
       "    <tr>\n",
       "      <th>main_sector</th>\n",
       "      <th></th>\n",
       "    </tr>\n",
       "  </thead>\n",
       "  <tbody>\n",
       "    <tr>\n",
       "      <th>Others</th>\n",
       "      <td>8763</td>\n",
       "    </tr>\n",
       "    <tr>\n",
       "      <th>Cleantech / Semiconductors</th>\n",
       "      <td>8268</td>\n",
       "    </tr>\n",
       "    <tr>\n",
       "      <th>Social, Finance, Analytics, Advertising</th>\n",
       "      <td>7822</td>\n",
       "    </tr>\n",
       "  </tbody>\n",
       "</table>\n",
       "</div>"
      ],
      "text/plain": [
       "                                         Total_Investment_Count\n",
       "main_sector                                                    \n",
       "Others                                                     8763\n",
       "Cleantech / Semiconductors                                 8268\n",
       "Social, Finance, Analytics, Advertising                    7822"
      ]
     },
     "execution_count": 28,
     "metadata": {},
     "output_type": "execute_result"
    }
   ],
   "source": [
    "Total_Count_of_Investment_USA=pd.DataFrame(D1.groupby(by='main_sector')['main_sector'].count().\n",
    "                     rename('Total_Investment_Count').sort_values(ascending = False))\n",
    "Total_Count_of_Investment_USA.head(n=3)"
   ]
  },
  {
   "cell_type": "code",
   "execution_count": 29,
   "id": "rubber-ministry",
   "metadata": {},
   "outputs": [
    {
     "data": {
      "text/plain": [
       "38020"
      ]
     },
     "execution_count": 29,
     "metadata": {},
     "output_type": "execute_result"
    }
   ],
   "source": [
    "Total_Count_of_Investment_USA['Total_Investment_Count'].sum() # Total Count of Investment in USA"
   ]
  },
  {
   "cell_type": "code",
   "execution_count": 30,
   "id": "welcome-sight",
   "metadata": {},
   "outputs": [
    {
     "data": {
      "text/html": [
       "<div>\n",
       "<style scoped>\n",
       "    .dataframe tbody tr th:only-of-type {\n",
       "        vertical-align: middle;\n",
       "    }\n",
       "\n",
       "    .dataframe tbody tr th {\n",
       "        vertical-align: top;\n",
       "    }\n",
       "\n",
       "    .dataframe thead th {\n",
       "        text-align: right;\n",
       "    }\n",
       "</style>\n",
       "<table border=\"1\" class=\"dataframe\">\n",
       "  <thead>\n",
       "    <tr style=\"text-align: right;\">\n",
       "      <th></th>\n",
       "      <th>Total_Investment_Count</th>\n",
       "    </tr>\n",
       "    <tr>\n",
       "      <th>main_sector</th>\n",
       "      <th></th>\n",
       "    </tr>\n",
       "  </thead>\n",
       "  <tbody>\n",
       "    <tr>\n",
       "      <th>Others</th>\n",
       "      <td>580</td>\n",
       "    </tr>\n",
       "    <tr>\n",
       "      <th>Social, Finance, Analytics, Advertising</th>\n",
       "      <td>481</td>\n",
       "    </tr>\n",
       "    <tr>\n",
       "      <th>Cleantech / Semiconductors</th>\n",
       "      <td>466</td>\n",
       "    </tr>\n",
       "  </tbody>\n",
       "</table>\n",
       "</div>"
      ],
      "text/plain": [
       "                                         Total_Investment_Count\n",
       "main_sector                                                    \n",
       "Others                                                      580\n",
       "Social, Finance, Analytics, Advertising                     481\n",
       "Cleantech / Semiconductors                                  466"
      ]
     },
     "execution_count": 30,
     "metadata": {},
     "output_type": "execute_result"
    }
   ],
   "source": [
    "Total_Count_of_Investment_GBR=pd.DataFrame(D2.groupby(by='main_sector')['main_sector'].count().\n",
    "                     rename('Total_Investment_Count').sort_values(ascending = False))\n",
    "Total_Count_of_Investment_GBR.head(n=3)"
   ]
  },
  {
   "cell_type": "code",
   "execution_count": 31,
   "id": "conscious-performance",
   "metadata": {},
   "outputs": [
    {
     "data": {
      "text/plain": [
       "2264"
      ]
     },
     "execution_count": 31,
     "metadata": {},
     "output_type": "execute_result"
    }
   ],
   "source": [
    "Total_Count_of_Investment_GBR['Total_Investment_Count'].sum() # Total Count of Investment in GBR"
   ]
  },
  {
   "cell_type": "code",
   "execution_count": 32,
   "id": "authentic-invitation",
   "metadata": {},
   "outputs": [
    {
     "data": {
      "text/html": [
       "<div>\n",
       "<style scoped>\n",
       "    .dataframe tbody tr th:only-of-type {\n",
       "        vertical-align: middle;\n",
       "    }\n",
       "\n",
       "    .dataframe tbody tr th {\n",
       "        vertical-align: top;\n",
       "    }\n",
       "\n",
       "    .dataframe thead th {\n",
       "        text-align: right;\n",
       "    }\n",
       "</style>\n",
       "<table border=\"1\" class=\"dataframe\">\n",
       "  <thead>\n",
       "    <tr style=\"text-align: right;\">\n",
       "      <th></th>\n",
       "      <th>Total_Investment_Count</th>\n",
       "    </tr>\n",
       "    <tr>\n",
       "      <th>main_sector</th>\n",
       "      <th></th>\n",
       "    </tr>\n",
       "  </thead>\n",
       "  <tbody>\n",
       "    <tr>\n",
       "      <th>Others</th>\n",
       "      <td>332</td>\n",
       "    </tr>\n",
       "    <tr>\n",
       "      <th>Social, Finance, Analytics, Advertising</th>\n",
       "      <td>193</td>\n",
       "    </tr>\n",
       "    <tr>\n",
       "      <th>News, Search and Messaging</th>\n",
       "      <td>154</td>\n",
       "    </tr>\n",
       "  </tbody>\n",
       "</table>\n",
       "</div>"
      ],
      "text/plain": [
       "                                         Total_Investment_Count\n",
       "main_sector                                                    \n",
       "Others                                                      332\n",
       "Social, Finance, Analytics, Advertising                     193\n",
       "News, Search and Messaging                                  154"
      ]
     },
     "execution_count": 32,
     "metadata": {},
     "output_type": "execute_result"
    }
   ],
   "source": [
    "Total_Count_of_Investment_IND=pd.DataFrame(D3.groupby(by='main_sector')['main_sector'].count().\n",
    "                     rename('Total_Investment_Count').sort_values(ascending = False))\n",
    "Total_Count_of_Investment_IND.head(n=3)"
   ]
  },
  {
   "cell_type": "code",
   "execution_count": 33,
   "id": "quality-asian",
   "metadata": {},
   "outputs": [
    {
     "data": {
      "text/plain": [
       "984"
      ]
     },
     "execution_count": 33,
     "metadata": {},
     "output_type": "execute_result"
    }
   ],
   "source": [
    "Total_Count_of_Investment_IND['Total_Investment_Count'].sum() # Total Count of Investment in IND"
   ]
  },
  {
   "cell_type": "markdown",
   "id": "missing-modification",
   "metadata": {},
   "source": [
    "2.  Total ***'Total Amount of Investment - USD'***,sector-wise,across ***USA,GBR and IND***"
   ]
  },
  {
   "cell_type": "code",
   "execution_count": 34,
   "id": "animated-silicon",
   "metadata": {},
   "outputs": [
    {
     "data": {
      "text/html": [
       "<div>\n",
       "<style scoped>\n",
       "    .dataframe tbody tr th:only-of-type {\n",
       "        vertical-align: middle;\n",
       "    }\n",
       "\n",
       "    .dataframe tbody tr th {\n",
       "        vertical-align: top;\n",
       "    }\n",
       "\n",
       "    .dataframe thead th {\n",
       "        text-align: right;\n",
       "    }\n",
       "</style>\n",
       "<table border=\"1\" class=\"dataframe\">\n",
       "  <thead>\n",
       "    <tr style=\"text-align: right;\">\n",
       "      <th></th>\n",
       "      <th>Total_Investment_Amount</th>\n",
       "    </tr>\n",
       "    <tr>\n",
       "      <th>main_sector</th>\n",
       "      <th></th>\n",
       "    </tr>\n",
       "  </thead>\n",
       "  <tbody>\n",
       "    <tr>\n",
       "      <th>Cleantech / Semiconductors</th>\n",
       "      <td>119931874301.00</td>\n",
       "    </tr>\n",
       "    <tr>\n",
       "      <th>Social, Finance, Analytics, Advertising</th>\n",
       "      <td>86331402349.00</td>\n",
       "    </tr>\n",
       "    <tr>\n",
       "      <th>Others</th>\n",
       "      <td>82796823598.00</td>\n",
       "    </tr>\n",
       "    <tr>\n",
       "      <th>News, Search and Messaging</th>\n",
       "      <td>45600521085.00</td>\n",
       "    </tr>\n",
       "    <tr>\n",
       "      <th>Health</th>\n",
       "      <td>31675057766.00</td>\n",
       "    </tr>\n",
       "    <tr>\n",
       "      <th>Manufacturing</th>\n",
       "      <td>24845319470.00</td>\n",
       "    </tr>\n",
       "    <tr>\n",
       "      <th>Entertainment</th>\n",
       "      <td>17014560960.00</td>\n",
       "    </tr>\n",
       "    <tr>\n",
       "      <th>Automotive &amp; Sports</th>\n",
       "      <td>11632164696.00</td>\n",
       "    </tr>\n",
       "  </tbody>\n",
       "</table>\n",
       "</div>"
      ],
      "text/plain": [
       "                                         Total_Investment_Amount\n",
       "main_sector                                                     \n",
       "Cleantech / Semiconductors                       119931874301.00\n",
       "Social, Finance, Analytics, Advertising           86331402349.00\n",
       "Others                                            82796823598.00\n",
       "News, Search and Messaging                        45600521085.00\n",
       "Health                                            31675057766.00\n",
       "Manufacturing                                     24845319470.00\n",
       "Entertainment                                     17014560960.00\n",
       "Automotive & Sports                               11632164696.00"
      ]
     },
     "execution_count": 34,
     "metadata": {},
     "output_type": "execute_result"
    }
   ],
   "source": [
    "Total_Amount_of_Investment_USD=pd.DataFrame(D1.groupby(by='main_sector')['raised_amount_usd'].sum().\n",
    "                     rename('Total_Investment_Amount').sort_values(ascending = False))\n",
    "Total_Amount_of_Investment_USD.head(n=8)"
   ]
  },
  {
   "cell_type": "code",
   "execution_count": 35,
   "id": "awful-purchase",
   "metadata": {},
   "outputs": [
    {
     "data": {
      "text/plain": [
       "419827724225.0"
      ]
     },
     "execution_count": 35,
     "metadata": {},
     "output_type": "execute_result"
    }
   ],
   "source": [
    "Total_Amount_of_Investment_USD['Total_Investment_Amount'].sum()# Total Amount of Investment in USA"
   ]
  },
  {
   "cell_type": "code",
   "execution_count": 36,
   "id": "seeing-fundamentals",
   "metadata": {},
   "outputs": [
    {
     "data": {
      "text/html": [
       "<div>\n",
       "<style scoped>\n",
       "    .dataframe tbody tr th:only-of-type {\n",
       "        vertical-align: middle;\n",
       "    }\n",
       "\n",
       "    .dataframe tbody tr th {\n",
       "        vertical-align: top;\n",
       "    }\n",
       "\n",
       "    .dataframe thead th {\n",
       "        text-align: right;\n",
       "    }\n",
       "</style>\n",
       "<table border=\"1\" class=\"dataframe\">\n",
       "  <thead>\n",
       "    <tr style=\"text-align: right;\">\n",
       "      <th></th>\n",
       "      <th>Total_Investment_Amount</th>\n",
       "    </tr>\n",
       "    <tr>\n",
       "      <th>main_sector</th>\n",
       "      <th></th>\n",
       "    </tr>\n",
       "  </thead>\n",
       "  <tbody>\n",
       "    <tr>\n",
       "      <th>Cleantech / Semiconductors</th>\n",
       "      <td>5073290093.00</td>\n",
       "    </tr>\n",
       "    <tr>\n",
       "      <th>Others</th>\n",
       "      <td>4492219646.00</td>\n",
       "    </tr>\n",
       "    <tr>\n",
       "      <th>Social, Finance, Analytics, Advertising</th>\n",
       "      <td>3773328672.00</td>\n",
       "    </tr>\n",
       "    <tr>\n",
       "      <th>News, Search and Messaging</th>\n",
       "      <td>2956023749.00</td>\n",
       "    </tr>\n",
       "    <tr>\n",
       "      <th>Entertainment</th>\n",
       "      <td>1162564878.00</td>\n",
       "    </tr>\n",
       "    <tr>\n",
       "      <th>Health</th>\n",
       "      <td>1046654806.00</td>\n",
       "    </tr>\n",
       "    <tr>\n",
       "      <th>Manufacturing</th>\n",
       "      <td>1019283214.00</td>\n",
       "    </tr>\n",
       "    <tr>\n",
       "      <th>Automotive &amp; Sports</th>\n",
       "      <td>480878712.00</td>\n",
       "    </tr>\n",
       "  </tbody>\n",
       "</table>\n",
       "</div>"
      ],
      "text/plain": [
       "                                         Total_Investment_Amount\n",
       "main_sector                                                     \n",
       "Cleantech / Semiconductors                         5073290093.00\n",
       "Others                                             4492219646.00\n",
       "Social, Finance, Analytics, Advertising            3773328672.00\n",
       "News, Search and Messaging                         2956023749.00\n",
       "Entertainment                                      1162564878.00\n",
       "Health                                             1046654806.00\n",
       "Manufacturing                                      1019283214.00\n",
       "Automotive & Sports                                 480878712.00"
      ]
     },
     "execution_count": 36,
     "metadata": {},
     "output_type": "execute_result"
    }
   ],
   "source": [
    "Total_Amount_of_Investment_GBR=pd.DataFrame(D2.groupby(by='main_sector')['raised_amount_usd'].sum().\n",
    "                     rename('Total_Investment_Amount').sort_values(ascending = False))\n",
    "Total_Amount_of_Investment_GBR.head(n=8)"
   ]
  },
  {
   "cell_type": "code",
   "execution_count": 37,
   "id": "advance-graduate",
   "metadata": {},
   "outputs": [
    {
     "data": {
      "text/plain": [
       "20004243770.0"
      ]
     },
     "execution_count": 37,
     "metadata": {},
     "output_type": "execute_result"
    }
   ],
   "source": [
    "Total_Amount_of_Investment_GBR['Total_Investment_Amount'].sum()# Total Amount of Investment in GBR"
   ]
  },
  {
   "cell_type": "code",
   "execution_count": 38,
   "id": "residential-performance",
   "metadata": {},
   "outputs": [
    {
     "data": {
      "text/html": [
       "<div>\n",
       "<style scoped>\n",
       "    .dataframe tbody tr th:only-of-type {\n",
       "        vertical-align: middle;\n",
       "    }\n",
       "\n",
       "    .dataframe tbody tr th {\n",
       "        vertical-align: top;\n",
       "    }\n",
       "\n",
       "    .dataframe thead th {\n",
       "        text-align: right;\n",
       "    }\n",
       "</style>\n",
       "<table border=\"1\" class=\"dataframe\">\n",
       "  <thead>\n",
       "    <tr style=\"text-align: right;\">\n",
       "      <th></th>\n",
       "      <th>Total_Investment_Amount</th>\n",
       "    </tr>\n",
       "    <tr>\n",
       "      <th>main_sector</th>\n",
       "      <th></th>\n",
       "    </tr>\n",
       "  </thead>\n",
       "  <tbody>\n",
       "    <tr>\n",
       "      <th>Others</th>\n",
       "      <td>6329507440.00</td>\n",
       "    </tr>\n",
       "    <tr>\n",
       "      <th>News, Search and Messaging</th>\n",
       "      <td>1739579948.00</td>\n",
       "    </tr>\n",
       "    <tr>\n",
       "      <th>Social, Finance, Analytics, Advertising</th>\n",
       "      <td>1578804920.00</td>\n",
       "    </tr>\n",
       "    <tr>\n",
       "      <th>Automotive &amp; Sports</th>\n",
       "      <td>1556350000.00</td>\n",
       "    </tr>\n",
       "    <tr>\n",
       "      <th>Entertainment</th>\n",
       "      <td>976191777.00</td>\n",
       "    </tr>\n",
       "    <tr>\n",
       "      <th>Cleantech / Semiconductors</th>\n",
       "      <td>786444633.00</td>\n",
       "    </tr>\n",
       "    <tr>\n",
       "      <th>Manufacturing</th>\n",
       "      <td>730260000.00</td>\n",
       "    </tr>\n",
       "    <tr>\n",
       "      <th>Health</th>\n",
       "      <td>564370000.00</td>\n",
       "    </tr>\n",
       "  </tbody>\n",
       "</table>\n",
       "</div>"
      ],
      "text/plain": [
       "                                         Total_Investment_Amount\n",
       "main_sector                                                     \n",
       "Others                                             6329507440.00\n",
       "News, Search and Messaging                         1739579948.00\n",
       "Social, Finance, Analytics, Advertising            1578804920.00\n",
       "Automotive & Sports                                1556350000.00\n",
       "Entertainment                                       976191777.00\n",
       "Cleantech / Semiconductors                          786444633.00\n",
       "Manufacturing                                       730260000.00\n",
       "Health                                              564370000.00"
      ]
     },
     "execution_count": 38,
     "metadata": {},
     "output_type": "execute_result"
    }
   ],
   "source": [
    "Total_Amount_of_Investment_IND=pd.DataFrame(D3.groupby(by='main_sector')['raised_amount_usd'].sum().\n",
    "                     rename('Total_Investment_Amount').sort_values(ascending = False))\n",
    "Total_Amount_of_Investment_IND.head(n=8)"
   ]
  },
  {
   "cell_type": "code",
   "execution_count": 39,
   "id": "upper-mistress",
   "metadata": {},
   "outputs": [
    {
     "data": {
      "text/plain": [
       "14261508718.0"
      ]
     },
     "execution_count": 39,
     "metadata": {},
     "output_type": "execute_result"
    }
   ],
   "source": [
    "Total_Amount_of_Investment_IND['Total_Investment_Amount'].sum()# Total Amount of Investment in INR"
   ]
  },
  {
   "cell_type": "markdown",
   "id": "outer-devices",
   "metadata": {},
   "source": [
    "3.  For point 3 (top sector count-wise), which company received the highest investment?\n",
    "4.  For point 4 (second best sector count-wise), which company received the highest investment?\n",
    "\n",
    "**_Steps followed:_**<br>\n",
    "First,I will merge the ***'Total Count of Investment'*** and ***'Total Amount of Investment'*** dataframes for individual countries with the main dataframes created from the ***'venture funding type'*** data subset for individual countries.This will allow us to answer the above 2 questions."
   ]
  },
  {
   "cell_type": "code",
   "execution_count": 40,
   "id": "played-timber",
   "metadata": {},
   "outputs": [
    {
     "data": {
      "text/plain": [
       "(38020, 17)"
      ]
     },
     "execution_count": 40,
     "metadata": {},
     "output_type": "execute_result"
    }
   ],
   "source": [
    "D1=pd.merge(pd.merge(D1,Total_Count_of_Investment_USA,how='inner',left_on='main_sector',right_index=True),\n",
    "                   Total_Amount_of_Investment_USD,how='inner',left_on='main_sector',right_index=True)\n",
    "D1.shape"
   ]
  },
  {
   "cell_type": "code",
   "execution_count": 41,
   "id": "velvet-fifty",
   "metadata": {},
   "outputs": [
    {
     "data": {
      "text/plain": [
       "(2264, 17)"
      ]
     },
     "execution_count": 41,
     "metadata": {},
     "output_type": "execute_result"
    }
   ],
   "source": [
    "D2=pd.merge(pd.merge(D2,Total_Count_of_Investment_GBR,how='inner',left_on='main_sector',right_index=True),\n",
    "                   Total_Amount_of_Investment_GBR,how='inner',left_on='main_sector',right_index=True)\n",
    "D2.shape"
   ]
  },
  {
   "cell_type": "code",
   "execution_count": 42,
   "id": "stylish-portugal",
   "metadata": {},
   "outputs": [
    {
     "data": {
      "text/plain": [
       "(984, 17)"
      ]
     },
     "execution_count": 42,
     "metadata": {},
     "output_type": "execute_result"
    }
   ],
   "source": [
    "D3=pd.merge(pd.merge(D3,Total_Count_of_Investment_IND,how='inner',left_on='main_sector',right_index=True),\n",
    "                   Total_Amount_of_Investment_IND,how='inner',left_on='main_sector',right_index=True)\n",
    "D3.shape"
   ]
  },
  {
   "cell_type": "markdown",
   "id": "outstanding-builder",
   "metadata": {},
   "source": [
    "-   We have seen earlier ***'Others'*** is the top sector for investment(count-wise) in ***USA,GBR and IND***.Hence,by filtering the ***'main_sector'*** with ***'Others'***,we can see the individual company names in each country."
   ]
  },
  {
   "cell_type": "code",
   "execution_count": 43,
   "id": "significant-tucson",
   "metadata": {},
   "outputs": [
    {
     "data": {
      "text/plain": [
       "company_permalink\n",
       "/ORGANIZATION/TERASCALA    13\n",
       "/ORGANIZATION/VECTORMAX    12\n",
       "/ORGANIZATION/LECERE       11\n",
       "Name: raised_amount_usd, dtype: int64"
      ]
     },
     "execution_count": 43,
     "metadata": {},
     "output_type": "execute_result"
    }
   ],
   "source": [
    "D1.loc[D1['main_sector']=='Others'].groupby(by='company_permalink')['raised_amount_usd'].count().sort_values(ascending = False).head(n = 3)"
   ]
  },
  {
   "cell_type": "code",
   "execution_count": 44,
   "id": "durable-compound",
   "metadata": {},
   "outputs": [
    {
     "data": {
      "text/plain": [
       "company_permalink\n",
       "/ORGANIZATION/ROSTIMA           8\n",
       "/ORGANIZATION/ELECTRIC-CLOUD    7\n",
       "/ORGANIZATION/PICOCHIP          6\n",
       "Name: raised_amount_usd, dtype: int64"
      ]
     },
     "execution_count": 44,
     "metadata": {},
     "output_type": "execute_result"
    }
   ],
   "source": [
    "D2.loc[D2['main_sector']=='Others'].groupby(by='company_permalink')['raised_amount_usd'].count().sort_values(ascending = False).head(n = 3)"
   ]
  },
  {
   "cell_type": "code",
   "execution_count": 45,
   "id": "optional-generation",
   "metadata": {},
   "outputs": [
    {
     "data": {
      "text/plain": [
       "company_permalink\n",
       "/ORGANIZATION/FLIPKART    9\n",
       "/ORGANIZATION/MYNTRA      8\n",
       "/ORGANIZATION/SNAPDEAL    5\n",
       "Name: raised_amount_usd, dtype: int64"
      ]
     },
     "execution_count": 45,
     "metadata": {},
     "output_type": "execute_result"
    }
   ],
   "source": [
    "D3.loc[D3['main_sector']=='Others'].groupby(by='company_permalink')['raised_amount_usd'].count().sort_values(ascending = False).head(n = 3)"
   ]
  },
  {
   "cell_type": "markdown",
   "id": "respiratory-thanksgiving",
   "metadata": {},
   "source": [
    "-   We have seen earlier ***'Cleantech / Semiconductors'*** is the second top sector for investment(count-wise) in ***USA***\n",
    "-   ***'Social, Finance, Analytics, Advertising'*** is the second top sector for investment(count-wise) in ***GBR*** \n",
    "-   ***'Social, Finance, Analytics, Advertising'*** is the second top sector for investment(count-wise) in ***IND***.\n",
    "-   Hence,by filtering the ***'main_sector'*** with above options,we can see the individual company names in each country."
   ]
  },
  {
   "cell_type": "code",
   "execution_count": 46,
   "id": "prime-disney",
   "metadata": {},
   "outputs": [
    {
     "data": {
      "text/plain": [
       "company_permalink\n",
       "/ORGANIZATION/TIGO-ENERGY                   12\n",
       "/ORGANIZATION/AVIIR                         12\n",
       "/ORGANIZATION/PRO-PHARMACEUTICALS           12\n",
       "/ORGANIZATION/COVENANT-SURGICAL-PARTNERS    12\n",
       "/ORGANIZATION/CNS-RESPONSE                  11\n",
       "                                            ..\n",
       "/ORGANIZATION/GENABILITY                     0\n",
       "/ORGANIZATION/NOTABLE-LABS-2                 0\n",
       "/ORGANIZATION/PHYSICIANS-IMMEDIATE-CARE      0\n",
       "/ORGANIZATION/NEUROSKY                       0\n",
       "/ORGANIZATION/WATER-GENERATING-SYSTEMS       0\n",
       "Name: raised_amount_usd, Length: 3930, dtype: int64"
      ]
     },
     "execution_count": 46,
     "metadata": {},
     "output_type": "execute_result"
    }
   ],
   "source": [
    "D1.loc[D1['main_sector']=='Cleantech / Semiconductors'].groupby(by='company_permalink')['raised_amount_usd'].count().sort_values(ascending = False)"
   ]
  },
  {
   "cell_type": "code",
   "execution_count": 47,
   "id": "bearing-girlfriend",
   "metadata": {},
   "outputs": [
    {
     "data": {
      "text/plain": [
       "company_permalink\n",
       "/ORGANIZATION/SIMILARWEB             6\n",
       "/ORGANIZATION/WORLDREMIT             6\n",
       "/ORGANIZATION/BORRO                  5\n",
       "/ORGANIZATION/AD-IQ                  5\n",
       "/ORGANIZATION/SPORTPURSUIT           5\n",
       "                                    ..\n",
       "/ORGANIZATION/TOUCHLOCAL             0\n",
       "/ORGANIZATION/PHOTOSPOTLAND          0\n",
       "/ORGANIZATION/PERFECT-STORM-MEDIA    0\n",
       "/ORGANIZATION/TRIGGERTRAP            0\n",
       "/ORGANIZATION/POINTR                 0\n",
       "Name: raised_amount_usd, Length: 313, dtype: int64"
      ]
     },
     "execution_count": 47,
     "metadata": {},
     "output_type": "execute_result"
    }
   ],
   "source": [
    "D2.loc[D2['main_sector']=='Social, Finance, Analytics, Advertising'].groupby(by='company_permalink')['raised_amount_usd'].count().sort_values(ascending = False)"
   ]
  },
  {
   "cell_type": "code",
   "execution_count": 48,
   "id": "fixed-cassette",
   "metadata": {},
   "outputs": [
    {
     "data": {
      "text/plain": [
       "company_permalink\n",
       "/ORGANIZATION/MANTHAN-SYSTEMS    6\n",
       "/ORGANIZATION/POLICYBAZAAR       4\n",
       "/ORGANIZATION/SHOPCLUES-COM      4\n",
       "/ORGANIZATION/KOMLI-MEDIA        4\n",
       "/ORGANIZATION/VIZURY             3\n",
       "                                ..\n",
       "/ORGANIZATION/FINDABLE-IN        0\n",
       "/ORGANIZATION/FAIRCENT           0\n",
       "/ORGANIZATION/EMPOWER-FUTURES    0\n",
       "/ORGANIZATION/SIMPLI5D           0\n",
       "/ORGANIZATION/JOMBAY             0\n",
       "Name: raised_amount_usd, Length: 141, dtype: int64"
      ]
     },
     "execution_count": 48,
     "metadata": {},
     "output_type": "execute_result"
    }
   ],
   "source": [
    "D3.loc[D3['main_sector']=='Social, Finance, Analytics, Advertising'].groupby(by='company_permalink')['raised_amount_usd'].count().sort_values(ascending = False)"
   ]
  },
  {
   "cell_type": "markdown",
   "id": "educational-colony",
   "metadata": {},
   "source": [
    "## Checkpoint 6: Plots"
   ]
  },
  {
   "cell_type": "markdown",
   "id": "aboriginal-restaurant",
   "metadata": {},
   "source": [
    "-  ### <font color=blue> A plot showing the representative amount of investment in each funding type i.e ***'Angel','Private Equity','Seed' and 'Venture'***"
   ]
  },
  {
   "cell_type": "markdown",
   "id": "meaning-living",
   "metadata": {},
   "source": [
    "**_Steps followed:_** <br>\n",
    "1. First I created a DataFrame to have only 4 funding types **'groupby'** and then **'sum'** of `raised_amount_usd`\n",
    "2. Created two subplots as below:\n",
    "> 1st as `pie` chart for `Percentage of Total Investments(globally)` using DataFrame created in step 1 <br>\n",
    "> 2nd as `bar` chart for `Average Amount of Investment` using `master_frame` only   "
   ]
  },
  {
   "cell_type": "code",
   "execution_count": 49,
   "id": "alert-custom",
   "metadata": {},
   "outputs": [
    {
     "data": {
      "text/plain": [
       "funding_round_type\n",
       "angel              4659255123.00\n",
       "private_equity   141925436105.00\n",
       "seed              16989864181.00\n",
       "venture          590126216876.00\n",
       "Name: raised_amount_usd, dtype: float64"
      ]
     },
     "execution_count": 49,
     "metadata": {},
     "output_type": "execute_result"
    }
   ],
   "source": [
    "plot_fundingtype=master_frame.loc[(master_frame['funding_round_type'] == 'angel') | \n",
    "                             (master_frame['funding_round_type'] == 'seed') | \n",
    "                             (master_frame['funding_round_type'] == 'venture') | \n",
    "                             (master_frame['funding_round_type'] == 'private_equity'), :].groupby('funding_round_type')['raised_amount_usd'].sum()\n",
    "plot_fundingtype.head(n=10)"
   ]
  },
  {
   "cell_type": "code",
   "execution_count": 50,
   "id": "mounted-permit",
   "metadata": {},
   "outputs": [
    {
     "data": {
      "image/png": "[encoded data removed]",
      "text/plain": [
       "<Figure size 1200x1200 with 2 Axes>"
      ]
     },
     "metadata": {
      "needs_background": "light"
     },
     "output_type": "display_data"
    }
   ],
   "source": [
    "import seaborn as sns\n",
    "\n",
    "# subplot 1 - Percentage of Total Investments(globally)\n",
    "plt.figure(figsize=[10.0,10.0],dpi=120,edgecolor='c',frameon=True)\n",
    "plt.subplot(221)\n",
    "plt.title('Percentage of Total Investments(globally) ',pad=7)\n",
    "# Data to plot\n",
    "labels = 'angle', 'venture', 'seed', 'private_equity'\n",
    "colors = ['turquoise', 'orchid', 'orange', 'forestgreen']\n",
    "explode = (0, 0.1, 0, 0) \n",
    "# Plot\n",
    "plt.pie(plot_fundingtype,explode=explode, labels=labels, colors=colors,autopct='%1.2f%%', startangle=55)\n",
    "\n",
    "# subplot 2 - Average Amount of Investment\n",
    "plt.subplot(222)\n",
    "sns.barplot(x=master_frame['funding_round_type'],y=master_frame['raised_amount_usd']/1000000,estimator=np.mean,order=[\"angle\",\"seed\",\"venture\",\"private_equity\"],ci=None)\n",
    "plt.ylabel(\"Raised_Amount_USD (in millions)\")\n",
    "plt.title(\"Average Amount of Investment\") \n",
    "plt.show()"
   ]
  },
  {
   "cell_type": "markdown",
   "id": "precious-arthritis",
   "metadata": {},
   "source": [
    "        \n",
    "#### From the chart it is evident that `'Venture'` funding type with average investment amount between 5 m to 15 m USD  is best suited for Spark Funds."
   ]
  },
  {
   "cell_type": "markdown",
   "id": "improving-meaning",
   "metadata": {},
   "source": [
    "-  ### <font color=blue> A plot showing the top 9 countries against the total amount of investments of Venture funding type. "
   ]
  },
  {
   "cell_type": "markdown",
   "id": "aquatic-discretion",
   "metadata": {},
   "source": [
    "**_Steps followed:_** <br>\n",
    "    \n",
    "1. First I created a new DataFrame - ***'English_Country'*** with Country code and a flag to denote if English is an official language in that country.\n",
    "2. Then,I merged ***top9*** and ***'English_Country'*** DataFrames on the ***'country_code'*** columns.This will give me the ***'raised_amount_usd'*** details for ***'Venture'*** funding type. \n",
    "3. Then,I used a `bar plot` graph to show `Total Investment Amount` (Y-Axis) for `Top 9 Countries` (X-Axis) "
   ]
  },
  {
   "cell_type": "code",
   "execution_count": 51,
   "id": "smoking-shopper",
   "metadata": {},
   "outputs": [
    {
     "data": {
      "text/html": [
       "<div>\n",
       "<style scoped>\n",
       "    .dataframe tbody tr th:only-of-type {\n",
       "        vertical-align: middle;\n",
       "    }\n",
       "\n",
       "    .dataframe tbody tr th {\n",
       "        vertical-align: top;\n",
       "    }\n",
       "\n",
       "    .dataframe thead th {\n",
       "        text-align: right;\n",
       "    }\n",
       "</style>\n",
       "<table border=\"1\" class=\"dataframe\">\n",
       "  <thead>\n",
       "    <tr style=\"text-align: right;\">\n",
       "      <th></th>\n",
       "      <th>country_code</th>\n",
       "      <th>English_Speaking_Flag</th>\n",
       "    </tr>\n",
       "  </thead>\n",
       "  <tbody>\n",
       "    <tr>\n",
       "      <th>0</th>\n",
       "      <td>USA</td>\n",
       "      <td>Y</td>\n",
       "    </tr>\n",
       "    <tr>\n",
       "      <th>1</th>\n",
       "      <td>CHN</td>\n",
       "      <td>N</td>\n",
       "    </tr>\n",
       "    <tr>\n",
       "      <th>2</th>\n",
       "      <td>GBR</td>\n",
       "      <td>Y</td>\n",
       "    </tr>\n",
       "    <tr>\n",
       "      <th>3</th>\n",
       "      <td>IND</td>\n",
       "      <td>Y</td>\n",
       "    </tr>\n",
       "    <tr>\n",
       "      <th>4</th>\n",
       "      <td>CAN</td>\n",
       "      <td>Y</td>\n",
       "    </tr>\n",
       "    <tr>\n",
       "      <th>5</th>\n",
       "      <td>FRA</td>\n",
       "      <td>N</td>\n",
       "    </tr>\n",
       "    <tr>\n",
       "      <th>6</th>\n",
       "      <td>ISR</td>\n",
       "      <td>Y</td>\n",
       "    </tr>\n",
       "    <tr>\n",
       "      <th>7</th>\n",
       "      <td>DEU</td>\n",
       "      <td>N</td>\n",
       "    </tr>\n",
       "    <tr>\n",
       "      <th>8</th>\n",
       "      <td>JPN</td>\n",
       "      <td>N</td>\n",
       "    </tr>\n",
       "  </tbody>\n",
       "</table>\n",
       "</div>"
      ],
      "text/plain": [
       "  country_code English_Speaking_Flag\n",
       "0          USA                     Y\n",
       "1          CHN                     N\n",
       "2          GBR                     Y\n",
       "3          IND                     Y\n",
       "4          CAN                     Y\n",
       "5          FRA                     N\n",
       "6          ISR                     Y\n",
       "7          DEU                     N\n",
       "8          JPN                     N"
      ]
     },
     "execution_count": 51,
     "metadata": {},
     "output_type": "execute_result"
    }
   ],
   "source": [
    "English_Country=pd.DataFrame({'country_code': ['USA','CHN','GBR','IND','CAN','FRA','ISR','DEU','JPN'],\n",
    "                        'English_Speaking_Flag': ['Y','N','Y','Y','Y','N','Y','N','N']})\n",
    "English_Country.head(n=9)"
   ]
  },
  {
   "cell_type": "code",
   "execution_count": 52,
   "id": "cooperative-hollow",
   "metadata": {},
   "outputs": [
    {
     "data": {
      "text/html": [
       "<div>\n",
       "<style scoped>\n",
       "    .dataframe tbody tr th:only-of-type {\n",
       "        vertical-align: middle;\n",
       "    }\n",
       "\n",
       "    .dataframe tbody tr th {\n",
       "        vertical-align: top;\n",
       "    }\n",
       "\n",
       "    .dataframe thead th {\n",
       "        text-align: right;\n",
       "    }\n",
       "</style>\n",
       "<table border=\"1\" class=\"dataframe\">\n",
       "  <thead>\n",
       "    <tr style=\"text-align: right;\">\n",
       "      <th></th>\n",
       "      <th>country_code</th>\n",
       "      <th>raised_amount_usd</th>\n",
       "      <th>English_Speaking_Flag</th>\n",
       "    </tr>\n",
       "  </thead>\n",
       "  <tbody>\n",
       "    <tr>\n",
       "      <th>0</th>\n",
       "      <td>USA</td>\n",
       "      <td>422510842796.00</td>\n",
       "      <td>Y</td>\n",
       "    </tr>\n",
       "    <tr>\n",
       "      <th>1</th>\n",
       "      <td>CHN</td>\n",
       "      <td>39835418773.00</td>\n",
       "      <td>N</td>\n",
       "    </tr>\n",
       "    <tr>\n",
       "      <th>2</th>\n",
       "      <td>GBR</td>\n",
       "      <td>20245627416.00</td>\n",
       "      <td>Y</td>\n",
       "    </tr>\n",
       "    <tr>\n",
       "      <th>3</th>\n",
       "      <td>IND</td>\n",
       "      <td>14391858718.00</td>\n",
       "      <td>Y</td>\n",
       "    </tr>\n",
       "    <tr>\n",
       "      <th>4</th>\n",
       "      <td>CAN</td>\n",
       "      <td>9583332317.00</td>\n",
       "      <td>Y</td>\n",
       "    </tr>\n",
       "    <tr>\n",
       "      <th>5</th>\n",
       "      <td>FRA</td>\n",
       "      <td>7259536732.00</td>\n",
       "      <td>N</td>\n",
       "    </tr>\n",
       "    <tr>\n",
       "      <th>6</th>\n",
       "      <td>ISR</td>\n",
       "      <td>6907514579.00</td>\n",
       "      <td>Y</td>\n",
       "    </tr>\n",
       "    <tr>\n",
       "      <th>7</th>\n",
       "      <td>DEU</td>\n",
       "      <td>6346959822.00</td>\n",
       "      <td>N</td>\n",
       "    </tr>\n",
       "    <tr>\n",
       "      <th>8</th>\n",
       "      <td>JPN</td>\n",
       "      <td>3363676611.00</td>\n",
       "      <td>N</td>\n",
       "    </tr>\n",
       "  </tbody>\n",
       "</table>\n",
       "</div>"
      ],
      "text/plain": [
       "  country_code  raised_amount_usd English_Speaking_Flag\n",
       "0          USA    422510842796.00                     Y\n",
       "1          CHN     39835418773.00                     N\n",
       "2          GBR     20245627416.00                     Y\n",
       "3          IND     14391858718.00                     Y\n",
       "4          CAN      9583332317.00                     Y\n",
       "5          FRA      7259536732.00                     N\n",
       "6          ISR      6907514579.00                     Y\n",
       "7          DEU      6346959822.00                     N\n",
       "8          JPN      3363676611.00                     N"
      ]
     },
     "execution_count": 52,
     "metadata": {},
     "output_type": "execute_result"
    }
   ],
   "source": [
    "top9=pd.merge(top9,English_Country,how='inner',on='country_code')\n",
    "top9.head(n=10)"
   ]
  },
  {
   "cell_type": "markdown",
   "id": "commercial-potential",
   "metadata": {},
   "source": [
    "    \n",
    "#### This makes it very clear that the top 3 English speaking countries `USA, GBR, IND` are with highest investment"
   ]
  },
  {
   "cell_type": "code",
   "execution_count": 53,
   "id": "internal-engineer",
   "metadata": {},
   "outputs": [
    {
     "data": {
      "image/png": "[encoded data removed]",
      "text/plain": [
       "<Figure size 1200x600 with 1 Axes>"
      ]
     },
     "metadata": {
      "needs_background": "light"
     },
     "output_type": "display_data"
    }
   ],
   "source": [
    "plt.figure(figsize=[10.0,5.0],dpi=120,frameon=True)\n",
    "sns.barplot(x=top9['country_code'],y=top9['raised_amount_usd']/1000000,hue=top9['English_Speaking_Flag'],ci=None)\n",
    "plt.ylabel(\"raised_amount_usd (in millions)\")\n",
    "plt.title(\"Total Amount of Investment for Top 9 Countries\") \n",
    "plt.show()"
   ]
  },
  {
   "cell_type": "markdown",
   "id": "helpful-exhaust",
   "metadata": {},
   "source": [
    "-  ### <font color=blue> A plot showing the number of investments in the top 3 sectors of the top 3 countries on one chart (for the chosen investment type ***'Venture'***). This plot should clearly display the top 3 sectors each in **USA, GBR and IND**."
   ]
  },
  {
   "cell_type": "markdown",
   "id": "sustainable-concrete",
   "metadata": {},
   "source": [
    "  **_Steps followed:_** <br><br>\n",
    "    _Data Creation:_ <br>\n",
    "1. First I will be resetting Index of ***'Total_Count_of_Investment'*** DataFrames for top 3 Countries which will help us in plotting the barplot\n",
    "2. I then filtered out the 3 main sectors by highest Total Investment Count for each Country \n",
    "3. A new `Country` Column is added in each Country DataFrame for plotting of sectors and countries\n",
    "4. Using the ***'merge'*** functionality,I am joining all the 3 country specific DataFrames.This will give us the top 3 sectors for ***USA,GBR and IND***\n",
    "    \n",
    "    _Plotting:_\n",
    "5. Used a `bivariate bar plot` graph to show `Total Investment Count` (Y-Axis) for `Top 3 Countries` (X-Axis) with hue as `Main-Sector`"
   ]
  },
  {
   "cell_type": "code",
   "execution_count": 54,
   "id": "pharmaceutical-yacht",
   "metadata": {},
   "outputs": [],
   "source": [
    "Total_Count_of_Investment_USA.reset_index(inplace=True)\n",
    "Total_Count_of_Investment_GBR.reset_index(inplace=True)\n",
    "Total_Count_of_Investment_IND.reset_index(inplace=True)"
   ]
  },
  {
   "cell_type": "code",
   "execution_count": 55,
   "id": "ordinary-nature",
   "metadata": {},
   "outputs": [],
   "source": [
    "Total_Count_of_Investment_USA = Total_Count_of_Investment_USA.sort_values(by='Total_Investment_Count',ascending = False).head(n=3)\n",
    "Total_Count_of_Investment_USA['Country'] = 'USA'\n",
    "Total_Count_of_Investment_GBR = Total_Count_of_Investment_GBR.sort_values(by='Total_Investment_Count',ascending = False).head(n=3)\n",
    "Total_Count_of_Investment_GBR['Country'] = 'GBR'\n",
    "Total_Count_of_Investment_IND = Total_Count_of_Investment_IND.sort_values(by='Total_Investment_Count',ascending = False).head(n=3)\n",
    "Total_Count_of_Investment_IND['Country'] = 'IND'"
   ]
  },
  {
   "cell_type": "code",
   "execution_count": 56,
   "id": "special-genealogy",
   "metadata": {},
   "outputs": [
    {
     "data": {
      "text/html": [
       "<div>\n",
       "<style scoped>\n",
       "    .dataframe tbody tr th:only-of-type {\n",
       "        vertical-align: middle;\n",
       "    }\n",
       "\n",
       "    .dataframe tbody tr th {\n",
       "        vertical-align: top;\n",
       "    }\n",
       "\n",
       "    .dataframe thead th {\n",
       "        text-align: right;\n",
       "    }\n",
       "</style>\n",
       "<table border=\"1\" class=\"dataframe\">\n",
       "  <thead>\n",
       "    <tr style=\"text-align: right;\">\n",
       "      <th></th>\n",
       "      <th>main_sector</th>\n",
       "      <th>Total_Investment_Count</th>\n",
       "      <th>Country</th>\n",
       "    </tr>\n",
       "  </thead>\n",
       "  <tbody>\n",
       "    <tr>\n",
       "      <th>0</th>\n",
       "      <td>Others</td>\n",
       "      <td>8763</td>\n",
       "      <td>USA</td>\n",
       "    </tr>\n",
       "    <tr>\n",
       "      <th>1</th>\n",
       "      <td>Cleantech / Semiconductors</td>\n",
       "      <td>8268</td>\n",
       "      <td>USA</td>\n",
       "    </tr>\n",
       "    <tr>\n",
       "      <th>2</th>\n",
       "      <td>Social, Finance, Analytics, Advertising</td>\n",
       "      <td>7822</td>\n",
       "      <td>USA</td>\n",
       "    </tr>\n",
       "    <tr>\n",
       "      <th>3</th>\n",
       "      <td>Others</td>\n",
       "      <td>580</td>\n",
       "      <td>GBR</td>\n",
       "    </tr>\n",
       "    <tr>\n",
       "      <th>4</th>\n",
       "      <td>Social, Finance, Analytics, Advertising</td>\n",
       "      <td>481</td>\n",
       "      <td>GBR</td>\n",
       "    </tr>\n",
       "    <tr>\n",
       "      <th>5</th>\n",
       "      <td>Cleantech / Semiconductors</td>\n",
       "      <td>466</td>\n",
       "      <td>GBR</td>\n",
       "    </tr>\n",
       "    <tr>\n",
       "      <th>6</th>\n",
       "      <td>Others</td>\n",
       "      <td>332</td>\n",
       "      <td>IND</td>\n",
       "    </tr>\n",
       "    <tr>\n",
       "      <th>7</th>\n",
       "      <td>Social, Finance, Analytics, Advertising</td>\n",
       "      <td>193</td>\n",
       "      <td>IND</td>\n",
       "    </tr>\n",
       "    <tr>\n",
       "      <th>8</th>\n",
       "      <td>News, Search and Messaging</td>\n",
       "      <td>154</td>\n",
       "      <td>IND</td>\n",
       "    </tr>\n",
       "  </tbody>\n",
       "</table>\n",
       "</div>"
      ],
      "text/plain": [
       "                               main_sector  Total_Investment_Count Country\n",
       "0                                   Others                    8763     USA\n",
       "1               Cleantech / Semiconductors                    8268     USA\n",
       "2  Social, Finance, Analytics, Advertising                    7822     USA\n",
       "3                                   Others                     580     GBR\n",
       "4  Social, Finance, Analytics, Advertising                     481     GBR\n",
       "5               Cleantech / Semiconductors                     466     GBR\n",
       "6                                   Others                     332     IND\n",
       "7  Social, Finance, Analytics, Advertising                     193     IND\n",
       "8               News, Search and Messaging                     154     IND"
      ]
     },
     "execution_count": 56,
     "metadata": {},
     "output_type": "execute_result"
    }
   ],
   "source": [
    "Total_Count_of_Investment=pd.merge(pd.merge(Total_Count_of_Investment_USA,Total_Count_of_Investment_GBR,how='outer'),Total_Count_of_Investment_IND,how='outer')\n",
    "Total_Count_of_Investment.head(n=10)"
   ]
  },
  {
   "cell_type": "code",
   "execution_count": 57,
   "id": "dense-rolling",
   "metadata": {},
   "outputs": [
    {
     "data": {
      "image/png": "[encoded data removed]",
      "text/plain": [
       "<Figure size 1200x600 with 1 Axes>"
      ]
     },
     "metadata": {
      "needs_background": "light"
     },
     "output_type": "display_data"
    }
   ],
   "source": [
    "plt.figure(figsize=[10.0,5.0],dpi=120,frameon=True)\n",
    "sns.barplot(x='Country', y='Total_Investment_Count', hue='main_sector',data=Total_Count_of_Investment)\n",
    "plt.ylabel(\"Total Investment Count\")\n",
    "plt.xlabel(\"Top 3 Countries\")\n",
    "plt.title(\"Number of Investments in the Top 3 Sectors in USA,GBR and IND\") \n",
    "plt.show()"
   ]
  }
 ],
 "metadata": {
  "kernelspec": {
   "display_name": "Python 3",
   "language": "python",
   "name": "python3"
  },
  "language_info": {
   "codemirror_mode": {
    "name": "ipython",
    "version": 3
   },
   "file_extension": ".py",
   "mimetype": "text/x-python",
   "name": "python",
   "nbconvert_exporter": "python",
   "pygments_lexer": "ipython3",
   "version": "3.9.1"
  }
 },
 "nbformat": 4,
 "nbformat_minor": 5
}
